{
 "cells": [
  {
   "cell_type": "code",
   "execution_count": 78,
   "id": "c30c7cac",
   "metadata": {
    "_cell_guid": "b1076dfc-b9ad-4769-8c92-a6c4dae69d19",
    "_uuid": "8f2839f25d086af736a60e9eeb907d3b93b6e0e5",
    "execution": {
     "iopub.execute_input": "2023-04-08T12:43:52.746304Z",
     "iopub.status.busy": "2023-04-08T12:43:52.745838Z",
     "iopub.status.idle": "2023-04-08T12:43:52.765775Z",
     "shell.execute_reply": "2023-04-08T12:43:52.764863Z"
    },
    "papermill": {
     "duration": 0.035649,
     "end_time": "2023-04-08T12:43:52.768610",
     "exception": false,
     "start_time": "2023-04-08T12:43:52.732961",
     "status": "completed"
    },
    "tags": []
   },
   "outputs": [],
   "source": [
    "import numpy as np \n",
    "import pandas as pd \n",
    "import os\n",
    "for dirname, _, filenames in os.walk('/input'):\n",
    "    for filename in filenames:\n",
    "        print(os.path.join(dirname, filename))"
   ]
  },
  {
   "cell_type": "markdown",
   "id": "13620617",
   "metadata": {
    "papermill": {
     "duration": 0.009376,
     "end_time": "2023-04-08T12:43:52.787925",
     "exception": false,
     "start_time": "2023-04-08T12:43:52.778549",
     "status": "completed"
    },
    "tags": []
   },
   "source": [
    "**1. Import Libraries**"
   ]
  },
  {
   "cell_type": "code",
   "execution_count": 79,
   "id": "c498db61",
   "metadata": {
    "execution": {
     "iopub.execute_input": "2023-04-08T12:43:52.810290Z",
     "iopub.status.busy": "2023-04-08T12:43:52.809048Z",
     "iopub.status.idle": "2023-04-08T12:43:55.667078Z",
     "shell.execute_reply": "2023-04-08T12:43:55.665785Z"
    },
    "papermill": {
     "duration": 2.872656,
     "end_time": "2023-04-08T12:43:55.670234",
     "exception": false,
     "start_time": "2023-04-08T12:43:52.797578",
     "status": "completed"
    },
    "tags": []
   },
   "outputs": [],
   "source": [
    "# data\n",
    "import pandas as pd\n",
    "import numpy as np\n",
    "\n",
    "# visualization\n",
    "import matplotlib\n",
    "import matplotlib.pyplot as plt\n",
    "import seaborn as sns\n",
    "import plotly.express as px"
   ]
  },
  {
   "cell_type": "markdown",
   "id": "315a000c",
   "metadata": {
    "papermill": {
     "duration": 0.010715,
     "end_time": "2023-04-08T12:43:55.692333",
     "exception": false,
     "start_time": "2023-04-08T12:43:55.681618",
     "status": "completed"
    },
    "tags": []
   },
   "source": [
    "**2. Read Dataset**"
   ]
  },
  {
   "cell_type": "code",
   "execution_count": 80,
   "id": "2d9b83a4",
   "metadata": {
    "execution": {
     "iopub.execute_input": "2023-04-08T12:43:55.715165Z",
     "iopub.status.busy": "2023-04-08T12:43:55.714743Z",
     "iopub.status.idle": "2023-04-08T12:43:55.759410Z",
     "shell.execute_reply": "2023-04-08T12:43:55.758063Z"
    },
    "papermill": {
     "duration": 0.060089,
     "end_time": "2023-04-08T12:43:55.762040",
     "exception": false,
     "start_time": "2023-04-08T12:43:55.701951",
     "status": "completed"
    },
    "tags": []
   },
   "outputs": [
    {
     "data": {
      "text/html": [
       "<div>\n",
       "<style scoped>\n",
       "    .dataframe tbody tr th:only-of-type {\n",
       "        vertical-align: middle;\n",
       "    }\n",
       "\n",
       "    .dataframe tbody tr th {\n",
       "        vertical-align: top;\n",
       "    }\n",
       "\n",
       "    .dataframe thead th {\n",
       "        text-align: right;\n",
       "    }\n",
       "</style>\n",
       "<table border=\"1\" class=\"dataframe\">\n",
       "  <thead>\n",
       "    <tr style=\"text-align: right;\">\n",
       "      <th></th>\n",
       "      <th>Rank</th>\n",
       "      <th>Youtube Channel</th>\n",
       "      <th>Subscribers</th>\n",
       "      <th>Video Views</th>\n",
       "      <th>Video Count</th>\n",
       "      <th>Category</th>\n",
       "      <th>Started</th>\n",
       "    </tr>\n",
       "  </thead>\n",
       "  <tbody>\n",
       "    <tr>\n",
       "      <th>0</th>\n",
       "      <td>1</td>\n",
       "      <td>T-Series</td>\n",
       "      <td>234,000,000</td>\n",
       "      <td>212,900,271,553</td>\n",
       "      <td>18,515</td>\n",
       "      <td>Music</td>\n",
       "      <td>2006</td>\n",
       "    </tr>\n",
       "    <tr>\n",
       "      <th>1</th>\n",
       "      <td>2</td>\n",
       "      <td>YouTube Movies</td>\n",
       "      <td>161,000,000</td>\n",
       "      <td>0</td>\n",
       "      <td>0</td>\n",
       "      <td>Film &amp; Animation</td>\n",
       "      <td>2015</td>\n",
       "    </tr>\n",
       "    <tr>\n",
       "      <th>2</th>\n",
       "      <td>3</td>\n",
       "      <td>Cocomelon - Nursery Rhymes</td>\n",
       "      <td>152,000,000</td>\n",
       "      <td>149,084,178,448</td>\n",
       "      <td>846</td>\n",
       "      <td>Education</td>\n",
       "      <td>2006</td>\n",
       "    </tr>\n",
       "    <tr>\n",
       "      <th>3</th>\n",
       "      <td>4</td>\n",
       "      <td>SET India</td>\n",
       "      <td>150,000,000</td>\n",
       "      <td>137,828,094,104</td>\n",
       "      <td>103,200</td>\n",
       "      <td>Shows</td>\n",
       "      <td>2006</td>\n",
       "    </tr>\n",
       "    <tr>\n",
       "      <th>4</th>\n",
       "      <td>5</td>\n",
       "      <td>MrBeast</td>\n",
       "      <td>128,000,000</td>\n",
       "      <td>21,549,128,785</td>\n",
       "      <td>733</td>\n",
       "      <td>Entertainment</td>\n",
       "      <td>2012</td>\n",
       "    </tr>\n",
       "  </tbody>\n",
       "</table>\n",
       "</div>"
      ],
      "text/plain": [
       "   Rank             Youtube Channel  Subscribers      Video Views Video Count  \\\n",
       "0     1                    T-Series  234,000,000  212,900,271,553      18,515   \n",
       "1     2              YouTube Movies  161,000,000                0           0   \n",
       "2     3  Cocomelon - Nursery Rhymes  152,000,000  149,084,178,448         846   \n",
       "3     4                   SET India  150,000,000  137,828,094,104     103,200   \n",
       "4     5                     MrBeast  128,000,000   21,549,128,785         733   \n",
       "\n",
       "           Category  Started  \n",
       "0             Music     2006  \n",
       "1  Film & Animation     2015  \n",
       "2         Education     2006  \n",
       "3             Shows     2006  \n",
       "4     Entertainment     2012  "
      ]
     },
     "execution_count": 80,
     "metadata": {},
     "output_type": "execute_result"
    }
   ],
   "source": [
    "df = pd.read_csv(\"topSubscribed.csv\")\n",
    "df.head()"
   ]
  },
  {
   "cell_type": "markdown",
   "id": "37f7e201",
   "metadata": {
    "papermill": {
     "duration": 0.009581,
     "end_time": "2023-04-08T12:43:55.781827",
     "exception": false,
     "start_time": "2023-04-08T12:43:55.772246",
     "status": "completed"
    },
    "tags": []
   },
   "source": [
    "**3. Data Processing**"
   ]
  },
  {
   "cell_type": "code",
   "execution_count": 81,
   "id": "8615d14d",
   "metadata": {
    "execution": {
     "iopub.execute_input": "2023-04-08T12:43:55.803375Z",
     "iopub.status.busy": "2023-04-08T12:43:55.802858Z",
     "iopub.status.idle": "2023-04-08T12:43:55.810638Z",
     "shell.execute_reply": "2023-04-08T12:43:55.809433Z"
    },
    "papermill": {
     "duration": 0.0215,
     "end_time": "2023-04-08T12:43:55.813100",
     "exception": false,
     "start_time": "2023-04-08T12:43:55.791600",
     "status": "completed"
    },
    "tags": []
   },
   "outputs": [
    {
     "data": {
      "text/plain": [
       "Rank                int64\n",
       "Youtube Channel    object\n",
       "Subscribers        object\n",
       "Video Views        object\n",
       "Video Count        object\n",
       "Category           object\n",
       "Started             int64\n",
       "dtype: object"
      ]
     },
     "execution_count": 81,
     "metadata": {},
     "output_type": "execute_result"
    }
   ],
   "source": [
    "df.shape\n",
    "df.dtypes\n"
   ]
  },
  {
   "cell_type": "code",
   "execution_count": 82,
   "id": "9cd9c1e6",
   "metadata": {},
   "outputs": [
    {
     "data": {
      "text/html": [
       "<div>\n",
       "<style scoped>\n",
       "    .dataframe tbody tr th:only-of-type {\n",
       "        vertical-align: middle;\n",
       "    }\n",
       "\n",
       "    .dataframe tbody tr th {\n",
       "        vertical-align: top;\n",
       "    }\n",
       "\n",
       "    .dataframe thead th {\n",
       "        text-align: right;\n",
       "    }\n",
       "</style>\n",
       "<table border=\"1\" class=\"dataframe\">\n",
       "  <thead>\n",
       "    <tr style=\"text-align: right;\">\n",
       "      <th></th>\n",
       "      <th>Rank</th>\n",
       "      <th>Youtube Channel</th>\n",
       "      <th>Subscribers</th>\n",
       "      <th>Video Views</th>\n",
       "      <th>Video Count</th>\n",
       "      <th>Category</th>\n",
       "      <th>Started</th>\n",
       "    </tr>\n",
       "  </thead>\n",
       "  <tbody>\n",
       "    <tr>\n",
       "      <th>0</th>\n",
       "      <td>1</td>\n",
       "      <td>T-Series</td>\n",
       "      <td>234,000,000</td>\n",
       "      <td>212,900,271,553</td>\n",
       "      <td>18,515</td>\n",
       "      <td>Music</td>\n",
       "      <td>2006</td>\n",
       "    </tr>\n",
       "    <tr>\n",
       "      <th>1</th>\n",
       "      <td>2</td>\n",
       "      <td>YouTube Movies</td>\n",
       "      <td>161,000,000</td>\n",
       "      <td>0</td>\n",
       "      <td>0</td>\n",
       "      <td>Film &amp; Animation</td>\n",
       "      <td>2015</td>\n",
       "    </tr>\n",
       "    <tr>\n",
       "      <th>2</th>\n",
       "      <td>3</td>\n",
       "      <td>Cocomelon - Nursery Rhymes</td>\n",
       "      <td>152,000,000</td>\n",
       "      <td>149,084,178,448</td>\n",
       "      <td>846</td>\n",
       "      <td>Education</td>\n",
       "      <td>2006</td>\n",
       "    </tr>\n",
       "    <tr>\n",
       "      <th>3</th>\n",
       "      <td>4</td>\n",
       "      <td>SET India</td>\n",
       "      <td>150,000,000</td>\n",
       "      <td>137,828,094,104</td>\n",
       "      <td>103,200</td>\n",
       "      <td>Shows</td>\n",
       "      <td>2006</td>\n",
       "    </tr>\n",
       "    <tr>\n",
       "      <th>4</th>\n",
       "      <td>5</td>\n",
       "      <td>MrBeast</td>\n",
       "      <td>128,000,000</td>\n",
       "      <td>21,549,128,785</td>\n",
       "      <td>733</td>\n",
       "      <td>Entertainment</td>\n",
       "      <td>2012</td>\n",
       "    </tr>\n",
       "  </tbody>\n",
       "</table>\n",
       "</div>"
      ],
      "text/plain": [
       "   Rank             Youtube Channel  Subscribers      Video Views Video Count  \\\n",
       "0     1                    T-Series  234,000,000  212,900,271,553      18,515   \n",
       "1     2              YouTube Movies  161,000,000                0           0   \n",
       "2     3  Cocomelon - Nursery Rhymes  152,000,000  149,084,178,448         846   \n",
       "3     4                   SET India  150,000,000  137,828,094,104     103,200   \n",
       "4     5                     MrBeast  128,000,000   21,549,128,785         733   \n",
       "\n",
       "           Category  Started  \n",
       "0             Music     2006  \n",
       "1  Film & Animation     2015  \n",
       "2         Education     2006  \n",
       "3             Shows     2006  \n",
       "4     Entertainment     2012  "
      ]
     },
     "execution_count": 82,
     "metadata": {},
     "output_type": "execute_result"
    }
   ],
   "source": [
    "\n",
    "df.head()"
   ]
  },
  {
   "cell_type": "markdown",
   "id": "491c58a9",
   "metadata": {
    "papermill": {
     "duration": 0.01012,
     "end_time": "2023-04-08T12:43:55.967135",
     "exception": false,
     "start_time": "2023-04-08T12:43:55.957015",
     "status": "completed"
    },
    "tags": []
   },
   "source": [
    "*Delete some column that not related.*"
   ]
  },
  {
   "cell_type": "code",
   "execution_count": 83,
   "id": "caf9b6d7",
   "metadata": {
    "execution": {
     "iopub.execute_input": "2023-04-08T12:43:55.989872Z",
     "iopub.status.busy": "2023-04-08T12:43:55.989407Z",
     "iopub.status.idle": "2023-04-08T12:43:56.008143Z",
     "shell.execute_reply": "2023-04-08T12:43:56.006853Z"
    },
    "papermill": {
     "duration": 0.033177,
     "end_time": "2023-04-08T12:43:56.010725",
     "exception": false,
     "start_time": "2023-04-08T12:43:55.977548",
     "status": "completed"
    },
    "tags": []
   },
   "outputs": [
    {
     "data": {
      "text/html": [
       "<div>\n",
       "<style scoped>\n",
       "    .dataframe tbody tr th:only-of-type {\n",
       "        vertical-align: middle;\n",
       "    }\n",
       "\n",
       "    .dataframe tbody tr th {\n",
       "        vertical-align: top;\n",
       "    }\n",
       "\n",
       "    .dataframe thead th {\n",
       "        text-align: right;\n",
       "    }\n",
       "</style>\n",
       "<table border=\"1\" class=\"dataframe\">\n",
       "  <thead>\n",
       "    <tr style=\"text-align: right;\">\n",
       "      <th></th>\n",
       "      <th>Youtube Channel</th>\n",
       "      <th>Subscribers</th>\n",
       "      <th>Video Views</th>\n",
       "      <th>Video Count</th>\n",
       "      <th>Category</th>\n",
       "      <th>Started</th>\n",
       "    </tr>\n",
       "  </thead>\n",
       "  <tbody>\n",
       "    <tr>\n",
       "      <th>0</th>\n",
       "      <td>T-Series</td>\n",
       "      <td>234,000,000</td>\n",
       "      <td>212,900,271,553</td>\n",
       "      <td>18,515</td>\n",
       "      <td>Music</td>\n",
       "      <td>2006</td>\n",
       "    </tr>\n",
       "    <tr>\n",
       "      <th>1</th>\n",
       "      <td>YouTube Movies</td>\n",
       "      <td>161,000,000</td>\n",
       "      <td>0</td>\n",
       "      <td>0</td>\n",
       "      <td>Film &amp; Animation</td>\n",
       "      <td>2015</td>\n",
       "    </tr>\n",
       "    <tr>\n",
       "      <th>2</th>\n",
       "      <td>Cocomelon - Nursery Rhymes</td>\n",
       "      <td>152,000,000</td>\n",
       "      <td>149,084,178,448</td>\n",
       "      <td>846</td>\n",
       "      <td>Education</td>\n",
       "      <td>2006</td>\n",
       "    </tr>\n",
       "    <tr>\n",
       "      <th>3</th>\n",
       "      <td>SET India</td>\n",
       "      <td>150,000,000</td>\n",
       "      <td>137,828,094,104</td>\n",
       "      <td>103,200</td>\n",
       "      <td>Shows</td>\n",
       "      <td>2006</td>\n",
       "    </tr>\n",
       "    <tr>\n",
       "      <th>4</th>\n",
       "      <td>MrBeast</td>\n",
       "      <td>128,000,000</td>\n",
       "      <td>21,549,128,785</td>\n",
       "      <td>733</td>\n",
       "      <td>Entertainment</td>\n",
       "      <td>2012</td>\n",
       "    </tr>\n",
       "  </tbody>\n",
       "</table>\n",
       "</div>"
      ],
      "text/plain": [
       "              Youtube Channel  Subscribers      Video Views Video Count  \\\n",
       "0                    T-Series  234,000,000  212,900,271,553      18,515   \n",
       "1              YouTube Movies  161,000,000                0           0   \n",
       "2  Cocomelon - Nursery Rhymes  152,000,000  149,084,178,448         846   \n",
       "3                   SET India  150,000,000  137,828,094,104     103,200   \n",
       "4                     MrBeast  128,000,000   21,549,128,785         733   \n",
       "\n",
       "           Category  Started  \n",
       "0             Music     2006  \n",
       "1  Film & Animation     2015  \n",
       "2         Education     2006  \n",
       "3             Shows     2006  \n",
       "4     Entertainment     2012  "
      ]
     },
     "execution_count": 83,
     "metadata": {},
     "output_type": "execute_result"
    }
   ],
   "source": [
    "df = df.drop([\"Rank\"], axis = 1 )\n",
    "df.head()"
   ]
  },
  {
   "cell_type": "markdown",
   "id": "aac0561f",
   "metadata": {
    "papermill": {
     "duration": 0.010268,
     "end_time": "2023-04-08T12:43:56.031729",
     "exception": false,
     "start_time": "2023-04-08T12:43:56.021461",
     "status": "completed"
    },
    "tags": []
   },
   "source": [
    "*Check missing values.*"
   ]
  },
  {
   "cell_type": "code",
   "execution_count": 84,
   "id": "ce71a2e5",
   "metadata": {
    "execution": {
     "iopub.execute_input": "2023-04-08T12:43:56.055127Z",
     "iopub.status.busy": "2023-04-08T12:43:56.054334Z",
     "iopub.status.idle": "2023-04-08T12:43:56.064131Z",
     "shell.execute_reply": "2023-04-08T12:43:56.062936Z"
    },
    "papermill": {
     "duration": 0.024326,
     "end_time": "2023-04-08T12:43:56.066630",
     "exception": false,
     "start_time": "2023-04-08T12:43:56.042304",
     "status": "completed"
    },
    "tags": []
   },
   "outputs": [
    {
     "data": {
      "text/plain": [
       "Youtube Channel    0\n",
       "Subscribers        0\n",
       "Video Views        0\n",
       "Video Count        0\n",
       "Category           0\n",
       "Started            0\n",
       "dtype: int64"
      ]
     },
     "execution_count": 84,
     "metadata": {},
     "output_type": "execute_result"
    }
   ],
   "source": [
    "df.isnull().sum()"
   ]
  },
  {
   "cell_type": "markdown",
   "id": "961a8e10",
   "metadata": {
    "papermill": {
     "duration": 0.010361,
     "end_time": "2023-04-08T12:43:56.087616",
     "exception": false,
     "start_time": "2023-04-08T12:43:56.077255",
     "status": "completed"
    },
    "tags": []
   },
   "source": [
    "*Check unique data of Category column*"
   ]
  },
  {
   "cell_type": "code",
   "execution_count": 85,
   "id": "2c39e7f2",
   "metadata": {
    "execution": {
     "iopub.execute_input": "2023-04-08T12:43:56.111423Z",
     "iopub.status.busy": "2023-04-08T12:43:56.110546Z",
     "iopub.status.idle": "2023-04-08T12:43:56.122274Z",
     "shell.execute_reply": "2023-04-08T12:43:56.121043Z"
    },
    "papermill": {
     "duration": 0.026379,
     "end_time": "2023-04-08T12:43:56.124607",
     "exception": false,
     "start_time": "2023-04-08T12:43:56.098228",
     "status": "completed"
    },
    "tags": []
   },
   "outputs": [
    {
     "data": {
      "text/plain": [
       "array(['Music', 'Film & Animation', 'Education', 'Shows', 'Entertainment',\n",
       "       'https://us.youtubers.me/global/all/top-1000-most_subscribed-youtube-channels',\n",
       "       'Gaming', 'People & Blogs', 'Sports', 'Howto & Style',\n",
       "       'News & Politics', 'Comedy', 'Trailers', 'Nonprofits & Activism',\n",
       "       'Science & Technology', 'Movies', 'Pets & Animals',\n",
       "       'Autos & Vehicles', 'Travel & Events'], dtype=object)"
      ]
     },
     "execution_count": 85,
     "metadata": {},
     "output_type": "execute_result"
    }
   ],
   "source": [
    "df.Category.unique()"
   ]
  },
  {
   "cell_type": "code",
   "execution_count": 86,
   "id": "7b6c8da7",
   "metadata": {
    "execution": {
     "iopub.execute_input": "2023-04-08T12:43:56.147803Z",
     "iopub.status.busy": "2023-04-08T12:43:56.147374Z",
     "iopub.status.idle": "2023-04-08T12:43:56.157336Z",
     "shell.execute_reply": "2023-04-08T12:43:56.156142Z"
    },
    "papermill": {
     "duration": 0.024299,
     "end_time": "2023-04-08T12:43:56.159665",
     "exception": false,
     "start_time": "2023-04-08T12:43:56.135366",
     "status": "completed"
    },
    "tags": []
   },
   "outputs": [
    {
     "data": {
      "text/plain": [
       "Category\n",
       "Autos & Vehicles                                                                  1\n",
       "Comedy                                                                           68\n",
       "Education                                                                        45\n",
       "Entertainment                                                                   238\n",
       "Film & Animation                                                                 50\n",
       "Gaming                                                                           94\n",
       "Howto & Style                                                                    43\n",
       "Movies                                                                            2\n",
       "Music                                                                           217\n",
       "News & Politics                                                                  27\n",
       "Nonprofits & Activism                                                             2\n",
       "People & Blogs                                                                  132\n",
       "Pets & Animals                                                                    6\n",
       "Science & Technology                                                             18\n",
       "Shows                                                                            14\n",
       "Sports                                                                           10\n",
       "Trailers                                                                          2\n",
       "Travel & Events                                                                   1\n",
       "https://us.youtubers.me/global/all/top-1000-most_subscribed-youtube-channels     30\n",
       "Name: Category, dtype: int64"
      ]
     },
     "execution_count": 86,
     "metadata": {},
     "output_type": "execute_result"
    }
   ],
   "source": [
    "df.groupby('Category')['Category'].count()"
   ]
  },
  {
   "cell_type": "markdown",
   "id": "3a38bd21",
   "metadata": {
    "papermill": {
     "duration": 0.010551,
     "end_time": "2023-04-08T12:43:56.181327",
     "exception": false,
     "start_time": "2023-04-08T12:43:56.170776",
     "status": "completed"
    },
    "tags": []
   },
   "source": [
    "*Found 30 rows that are unknown category as an URL. Remove that unknown category*"
   ]
  },
  {
   "cell_type": "code",
   "execution_count": 87,
   "id": "390891a2",
   "metadata": {
    "execution": {
     "iopub.execute_input": "2023-04-08T12:43:56.205836Z",
     "iopub.status.busy": "2023-04-08T12:43:56.204686Z",
     "iopub.status.idle": "2023-04-08T12:43:56.213877Z",
     "shell.execute_reply": "2023-04-08T12:43:56.212806Z"
    },
    "papermill": {
     "duration": 0.024051,
     "end_time": "2023-04-08T12:43:56.216254",
     "exception": false,
     "start_time": "2023-04-08T12:43:56.192203",
     "status": "completed"
    },
    "tags": []
   },
   "outputs": [
    {
     "data": {
      "text/plain": [
       "array(['Music', 'Film & Animation', 'Education', 'Shows', 'Entertainment',\n",
       "       'Gaming', 'People & Blogs', 'Sports', 'Howto & Style',\n",
       "       'News & Politics', 'Comedy', 'Trailers', 'Nonprofits & Activism',\n",
       "       'Science & Technology', 'Movies', 'Pets & Animals',\n",
       "       'Autos & Vehicles', 'Travel & Events'], dtype=object)"
      ]
     },
     "execution_count": 87,
     "metadata": {},
     "output_type": "execute_result"
    }
   ],
   "source": [
    "df = df[df[\"Category\"] != \"https://us.youtubers.me/global/all/top-1000-most_subscribed-youtube-channels\"]\n",
    "df.Category.unique()"
   ]
  },
  {
   "cell_type": "code",
   "execution_count": 88,
   "id": "ea6fb842",
   "metadata": {
    "execution": {
     "iopub.execute_input": "2023-04-08T12:43:56.240236Z",
     "iopub.status.busy": "2023-04-08T12:43:56.239757Z",
     "iopub.status.idle": "2023-04-08T12:43:56.246970Z",
     "shell.execute_reply": "2023-04-08T12:43:56.245796Z"
    },
    "papermill": {
     "duration": 0.022165,
     "end_time": "2023-04-08T12:43:56.249537",
     "exception": false,
     "start_time": "2023-04-08T12:43:56.227372",
     "status": "completed"
    },
    "tags": []
   },
   "outputs": [
    {
     "data": {
      "text/plain": [
       "(970, 6)"
      ]
     },
     "execution_count": 88,
     "metadata": {},
     "output_type": "execute_result"
    }
   ],
   "source": [
    "df.shape"
   ]
  },
  {
   "cell_type": "markdown",
   "id": "c10bbebf",
   "metadata": {
    "papermill": {
     "duration": 0.010746,
     "end_time": "2023-04-08T12:43:56.271380",
     "exception": false,
     "start_time": "2023-04-08T12:43:56.260634",
     "status": "completed"
    },
    "tags": []
   },
   "source": [
    "30 rows have been removed"
   ]
  },
  {
   "cell_type": "code",
   "execution_count": 89,
   "id": "dacfc81b",
   "metadata": {
    "execution": {
     "iopub.execute_input": "2023-04-08T12:43:56.295821Z",
     "iopub.status.busy": "2023-04-08T12:43:56.295386Z",
     "iopub.status.idle": "2023-04-08T12:43:56.324821Z",
     "shell.execute_reply": "2023-04-08T12:43:56.323534Z"
    },
    "papermill": {
     "duration": 0.044747,
     "end_time": "2023-04-08T12:43:56.327304",
     "exception": false,
     "start_time": "2023-04-08T12:43:56.282557",
     "status": "completed"
    },
    "tags": []
   },
   "outputs": [
    {
     "data": {
      "text/html": [
       "<div>\n",
       "<style scoped>\n",
       "    .dataframe tbody tr th:only-of-type {\n",
       "        vertical-align: middle;\n",
       "    }\n",
       "\n",
       "    .dataframe tbody tr th {\n",
       "        vertical-align: top;\n",
       "    }\n",
       "\n",
       "    .dataframe thead th {\n",
       "        text-align: right;\n",
       "    }\n",
       "</style>\n",
       "<table border=\"1\" class=\"dataframe\">\n",
       "  <thead>\n",
       "    <tr style=\"text-align: right;\">\n",
       "      <th></th>\n",
       "      <th>Started</th>\n",
       "    </tr>\n",
       "  </thead>\n",
       "  <tbody>\n",
       "    <tr>\n",
       "      <th>count</th>\n",
       "      <td>970.000000</td>\n",
       "    </tr>\n",
       "    <tr>\n",
       "      <th>mean</th>\n",
       "      <td>2012.470103</td>\n",
       "    </tr>\n",
       "    <tr>\n",
       "      <th>std</th>\n",
       "      <td>4.084964</td>\n",
       "    </tr>\n",
       "    <tr>\n",
       "      <th>min</th>\n",
       "      <td>1970.000000</td>\n",
       "    </tr>\n",
       "    <tr>\n",
       "      <th>25%</th>\n",
       "      <td>2010.000000</td>\n",
       "    </tr>\n",
       "    <tr>\n",
       "      <th>50%</th>\n",
       "      <td>2013.000000</td>\n",
       "    </tr>\n",
       "    <tr>\n",
       "      <th>75%</th>\n",
       "      <td>2015.000000</td>\n",
       "    </tr>\n",
       "    <tr>\n",
       "      <th>max</th>\n",
       "      <td>2021.000000</td>\n",
       "    </tr>\n",
       "  </tbody>\n",
       "</table>\n",
       "</div>"
      ],
      "text/plain": [
       "           Started\n",
       "count   970.000000\n",
       "mean   2012.470103\n",
       "std       4.084964\n",
       "min    1970.000000\n",
       "25%    2010.000000\n",
       "50%    2013.000000\n",
       "75%    2015.000000\n",
       "max    2021.000000"
      ]
     },
     "execution_count": 89,
     "metadata": {},
     "output_type": "execute_result"
    }
   ],
   "source": [
    "df.describe()"
   ]
  },
  {
   "cell_type": "markdown",
   "id": "b86e0e3d",
   "metadata": {
    "papermill": {
     "duration": 0.011147,
     "end_time": "2023-04-08T12:43:56.350231",
     "exception": false,
     "start_time": "2023-04-08T12:43:56.339084",
     "status": "completed"
    },
    "tags": []
   },
   "source": [
    "**4. Data Visualization**"
   ]
  },
  {
   "cell_type": "markdown",
   "id": "b484a41c",
   "metadata": {
    "papermill": {
     "duration": 0.011257,
     "end_time": "2023-04-08T12:43:56.372837",
     "exception": false,
     "start_time": "2023-04-08T12:43:56.361580",
     "status": "completed"
    },
    "tags": []
   },
   "source": [
    "**Percentage of Youtube Channel By Category**"
   ]
  },
  {
   "cell_type": "code",
   "execution_count": 90,
   "id": "210f98b2",
   "metadata": {
    "execution": {
     "iopub.execute_input": "2023-04-08T12:43:56.398854Z",
     "iopub.status.busy": "2023-04-08T12:43:56.398119Z",
     "iopub.status.idle": "2023-04-08T12:43:57.132468Z",
     "shell.execute_reply": "2023-04-08T12:43:57.131060Z"
    },
    "papermill": {
     "duration": 0.750822,
     "end_time": "2023-04-08T12:43:57.135502",
     "exception": false,
     "start_time": "2023-04-08T12:43:56.384680",
     "status": "completed"
    },
    "tags": []
   },
   "outputs": [
    {
     "data": {
      "application/vnd.plotly.v1+json": {
       "config": {
        "plotlyServerURL": "https://plot.ly"
       },
       "data": [
        {
         "domain": {
          "x": [
           0,
           1
          ],
          "y": [
           0,
           1
          ]
         },
         "hovertemplate": "label=%{label}<br>value=%{value}<extra></extra>",
         "labels": [
          "Entertainment",
          "Music",
          "People & Blogs",
          "Gaming",
          "Comedy",
          "Film & Animation",
          "Education",
          "Howto & Style",
          "News & Politics",
          "Science & Technology",
          "Shows",
          "Sports",
          "Pets & Animals",
          "Trailers",
          "Nonprofits & Activism",
          "Movies",
          "Autos & Vehicles",
          "Travel & Events"
         ],
         "legendgroup": "",
         "name": "",
         "showlegend": true,
         "textfont": {
          "size": 11
         },
         "textinfo": "percent+label",
         "textposition": "inside",
         "type": "pie",
         "values": [
          238,
          217,
          132,
          94,
          68,
          50,
          45,
          43,
          27,
          18,
          14,
          10,
          6,
          2,
          2,
          2,
          1,
          1
         ]
        }
       ],
       "layout": {
        "legend": {
         "tracegroupgap": 0
        },
        "piecolorway": [
         "rgb(103,0,31)",
         "rgb(178,24,43)",
         "rgb(214,96,77)",
         "rgb(244,165,130)",
         "rgb(253,219,199)",
         "rgb(247,247,247)",
         "rgb(209,229,240)",
         "rgb(146,197,222)",
         "rgb(67,147,195)",
         "rgb(33,102,172)",
         "rgb(5,48,97)"
        ],
        "template": {
         "data": {
          "pie": [
           {
            "automargin": true,
            "type": "pie"
           }
          ],
          "scatter": [
           {
            "line": {
             "width": 3
            },
            "marker": {
             "size": 9
            },
            "type": "scatter"
           }
          ],
          "scatter3d": [
           {
            "line": {
             "width": 3
            },
            "marker": {
             "size": 9
            },
            "type": "scatter3d"
           }
          ],
          "scattergeo": [
           {
            "line": {
             "width": 3
            },
            "marker": {
             "size": 9
            },
            "type": "scattergeo"
           }
          ],
          "scattergl": [
           {
            "line": {
             "width": 3
            },
            "marker": {
             "size": 9
            },
            "type": "scattergl"
           }
          ],
          "scatterpolar": [
           {
            "line": {
             "width": 3
            },
            "marker": {
             "size": 9
            },
            "type": "scatterpolar"
           }
          ],
          "scatterpolargl": [
           {
            "line": {
             "width": 3
            },
            "marker": {
             "size": 9
            },
            "type": "scatterpolargl"
           }
          ],
          "scatterternary": [
           {
            "line": {
             "width": 3
            },
            "marker": {
             "size": 9
            },
            "type": "scatterternary"
           }
          ],
          "table": [
           {
            "cells": {
             "height": 30
            },
            "header": {
             "height": 36
            },
            "type": "table"
           }
          ]
         },
         "layout": {
          "font": {
           "size": 18
          },
          "xaxis": {
           "title": {
            "standoff": 15
           }
          },
          "yaxis": {
           "title": {
            "standoff": 15
           }
          }
         }
        },
        "title": {
         "text": "Percentage of Youtube Channel By Category"
        }
       }
      }
     },
     "metadata": {},
     "output_type": "display_data"
    }
   ],
   "source": [
    "categories=df['Category'].value_counts()\n",
    "fig=px.pie(values=categories.values,\n",
    "          names=categories.index,\n",
    "          color_discrete_sequence=px.colors.sequential.RdBu,\n",
    "          title=\"Percentage of Youtube Channel By Category\", template='presentation'\n",
    "          )\n",
    "fig.update_traces(textposition='inside',\n",
    "                  textfont_size=11,\n",
    "                  textinfo='percent+label')\n",
    "fig.show();\n"
   ]
  },
  {
   "cell_type": "markdown",
   "id": "80eee888",
   "metadata": {
    "papermill": {
     "duration": 0.011749,
     "end_time": "2023-04-08T12:43:57.159501",
     "exception": false,
     "start_time": "2023-04-08T12:43:57.147752",
     "status": "completed"
    },
    "tags": []
   },
   "source": [
    "*Entertainment, Music and People & Blogs are top 3 of category proportion*"
   ]
  },
  {
   "cell_type": "markdown",
   "id": "258fabca",
   "metadata": {
    "papermill": {
     "duration": 0.011502,
     "end_time": "2023-04-08T12:43:57.182848",
     "exception": false,
     "start_time": "2023-04-08T12:43:57.171346",
     "status": "completed"
    },
    "tags": []
   },
   "source": [
    "**Video views and Subscribers By Categories**"
   ]
  },
  {
   "cell_type": "code",
   "execution_count": 91,
   "id": "a47fc987",
   "metadata": {},
   "outputs": [],
   "source": [
    "df[\"Subscribers\"] = df[\"Subscribers\"].str.replace(\",\", \"\").astype(int)\n",
    "df[\"Video Views\"] = df[\"Video Views\"].str.replace(\",\", \"\").astype(np.int64)\n",
    "df[\"Video Count\"] = df[\"Video Count\"].str.replace(\",\", \"\").astype(int)\n"
   ]
  },
  {
   "cell_type": "code",
   "execution_count": 92,
   "id": "d980783f",
   "metadata": {
    "execution": {
     "iopub.execute_input": "2023-04-08T12:43:57.208424Z",
     "iopub.status.busy": "2023-04-08T12:43:57.208006Z",
     "iopub.status.idle": "2023-04-08T12:43:58.473083Z",
     "shell.execute_reply": "2023-04-08T12:43:58.472074Z"
    },
    "papermill": {
     "duration": 1.281404,
     "end_time": "2023-04-08T12:43:58.476240",
     "exception": false,
     "start_time": "2023-04-08T12:43:57.194836",
     "status": "completed"
    },
    "tags": []
   },
   "outputs": [
    {
     "data": {
      "application/vnd.plotly.v1+json": {
       "config": {
        "plotlyServerURL": "https://plot.ly"
       },
       "data": [
        {
         "hovertemplate": "Category=Music<br>Subscribers=%{x}<br>Video Views=%{marker.size}<extra></extra>",
         "legendgroup": "Music",
         "marker": {
          "color": "#636efa",
          "size": [
           212900271553,
           53352597784,
           19240057894,
           29598652357,
           25947702825,
           37179407050,
           29992048346,
           27004807684,
           30741513673,
           38819471815,
           27179277627,
           25334375101,
           53458257145,
           29004663326,
           30857986532,
           23058776245,
           27714189976,
           12810775364,
           28114460507,
           25915043211,
           24676643547,
           12266013874,
           25752372644,
           10134205288,
           24701070352,
           13125170526,
           21667615457,
           21651521761,
           15500577270,
           18369812498,
           22255148830,
           22257560882,
           12205382034,
           9909079287,
           20004653117,
           24784972963,
           10843342435,
           20441345965,
           13965458068,
           25955745056,
           26267502068,
           26620144607,
           21097791955,
           13769164702,
           15543812678,
           20651821146,
           15573184914,
           12272383543,
           13365050446,
           16694586833,
           20398752778,
           15671695419,
           14112271569,
           24229379040,
           19996346479,
           13475088420,
           12956392794,
           14667362261,
           18505316594,
           19899129709,
           24334160208,
           16545952051,
           17583869743,
           18711981509,
           9814393443,
           16789646111,
           16036594903,
           19618787988,
           13400799639,
           23193121362,
           14634573956,
           16151404605,
           23263234592,
           8039306948,
           13022229032,
           53386751228,
           16999907105,
           15433153908,
           11795485473,
           24839063221,
           13744471188,
           12530155484,
           7577333000,
           12789115698,
           11830132973,
           9279930391,
           10584082649,
           14935005348,
           17847780290,
           10028384275,
           9857717474,
           16053917113,
           6438877934,
           5939617823,
           554309174,
           12435259143,
           12914685124,
           6017123758,
           5223654445,
           15404239913,
           3241027636,
           23689186601,
           9020045767,
           6328088383,
           13041283902,
           11236193123,
           19096510006,
           6692528239,
           19536373590,
           10278257112,
           4151057085,
           6711838849,
           3740227273,
           16475440230,
           10987905421,
           9153296657,
           14253357504,
           6999595709,
           10280190536,
           7561196221,
           8242919144,
           7286908606,
           6406528293,
           11967155018,
           6348729079,
           9858663362,
           9894008410,
           9495750368,
           11199713086,
           6854636069,
           9534315040,
           6432024424,
           8419062111,
           13565040202,
           4388859333,
           4721370622,
           11918454879,
           6409533930,
           7577947855,
           5438012566,
           13968497628,
           10783179824,
           12979351082,
           9119867025,
           8531197930,
           3433181614,
           1314916113,
           7729323881,
           5781932607,
           19451808105,
           10808395899,
           8912503027,
           1345839890,
           5388394805,
           9326000286,
           5941101813,
           4404726516,
           4115740719,
           18436716176,
           6102779731,
           5811945530,
           5004580463,
           4028748305,
           10518046735,
           1966260662,
           8549020227,
           5658398807,
           3692221584,
           9268704548,
           7726422032,
           7399861178,
           11999986364,
           3659466058,
           2665397983,
           20219708239,
           9958947026,
           4940473759,
           6405935489,
           15018595817,
           6183850559,
           5196501306,
           4296055045,
           13662997727,
           4153844467,
           10763457454,
           7128616807,
           4552563710,
           8617068421,
           4514074611,
           6751007251,
           5649739561,
           11821116201,
           10418976938,
           9328021218,
           6256144602,
           6690382235,
           5780108081,
           5030056103,
           5905100328,
           7640979425,
           6012566606,
           10134616933,
           7059676669,
           5332547232,
           1476334365,
           13190990325,
           2262532486,
           13952879752,
           7548976997,
           2064926551,
           4654677099,
           5741869232,
           6698448077,
           15080936964,
           5200224730,
           5338043398,
           5997717755
          ],
          "sizemode": "area",
          "sizeref": 85160108.6212,
          "symbol": "circle"
         },
         "mode": "markers",
         "name": "Music",
         "orientation": "v",
         "showlegend": true,
         "type": "scatter",
         "x": [
          234000000,
          91600000,
          73100000,
          70800000,
          69600000,
          66300000,
          63500000,
          57300000,
          56300000,
          55700000,
          55400000,
          55000000,
          55000000,
          52800000,
          52300000,
          52200000,
          50700000,
          47300000,
          45100000,
          44800000,
          43800000,
          42800000,
          41800000,
          38400000,
          38400000,
          37800000,
          37500000,
          36400000,
          36300000,
          36100000,
          35800000,
          33900000,
          33700000,
          33600000,
          33600000,
          33600000,
          33100000,
          32800000,
          31900000,
          31700000,
          31400000,
          31400000,
          30800000,
          30500000,
          30300000,
          29900000,
          29800000,
          29800000,
          29500000,
          29100000,
          29000000,
          28900000,
          27500000,
          27400000,
          27300000,
          27100000,
          27000000,
          26500000,
          26300000,
          26200000,
          25700000,
          25500000,
          25500000,
          25200000,
          25100000,
          25000000,
          24900000,
          24800000,
          24800000,
          24700000,
          24500000,
          24400000,
          24400000,
          23900000,
          23600000,
          23500000,
          23400000,
          23400000,
          23100000,
          22600000,
          22400000,
          22300000,
          22200000,
          22200000,
          21900000,
          21600000,
          21400000,
          21000000,
          20900000,
          20800000,
          20400000,
          20200000,
          20000000,
          20000000,
          20000000,
          19700000,
          19700000,
          18900000,
          18700000,
          18700000,
          18700000,
          18400000,
          18400000,
          18300000,
          18200000,
          18000000,
          17900000,
          17900000,
          17800000,
          17800000,
          17800000,
          17600000,
          17600000,
          17200000,
          17200000,
          17200000,
          17000000,
          17000000,
          16600000,
          16400000,
          16300000,
          16200000,
          16200000,
          16100000,
          16100000,
          16000000,
          15900000,
          15900000,
          15800000,
          15800000,
          15600000,
          15600000,
          15300000,
          15300000,
          15300000,
          15200000,
          15100000,
          15100000,
          14900000,
          14900000,
          14800000,
          14800000,
          14700000,
          14700000,
          14700000,
          14700000,
          14500000,
          14500000,
          14500000,
          14500000,
          14500000,
          14400000,
          14400000,
          14400000,
          14300000,
          14300000,
          14300000,
          14200000,
          14100000,
          14100000,
          14100000,
          14100000,
          14100000,
          14000000,
          13900000,
          13800000,
          13800000,
          13800000,
          13600000,
          13600000,
          13600000,
          13500000,
          13500000,
          13300000,
          13300000,
          13000000,
          13000000,
          12900000,
          12900000,
          12900000,
          12900000,
          12900000,
          12800000,
          12800000,
          12800000,
          12800000,
          12800000,
          12600000,
          12600000,
          12500000,
          12500000,
          12400000,
          12400000,
          12400000,
          12400000,
          12300000,
          12300000,
          12300000,
          12100000,
          12000000,
          12000000,
          11900000,
          11900000,
          11900000,
          11900000,
          11900000,
          11800000,
          11800000,
          11800000,
          11800000,
          11700000,
          11700000,
          11700000,
          11600000,
          11600000,
          11500000,
          11500000
         ],
         "xaxis": "x",
         "y": [
          212900271553,
          53352597784,
          19240057894,
          29598652357,
          25947702825,
          37179407050,
          29992048346,
          27004807684,
          30741513673,
          38819471815,
          27179277627,
          25334375101,
          53458257145,
          29004663326,
          30857986532,
          23058776245,
          27714189976,
          12810775364,
          28114460507,
          25915043211,
          24676643547,
          12266013874,
          25752372644,
          10134205288,
          24701070352,
          13125170526,
          21667615457,
          21651521761,
          15500577270,
          18369812498,
          22255148830,
          22257560882,
          12205382034,
          9909079287,
          20004653117,
          24784972963,
          10843342435,
          20441345965,
          13965458068,
          25955745056,
          26267502068,
          26620144607,
          21097791955,
          13769164702,
          15543812678,
          20651821146,
          15573184914,
          12272383543,
          13365050446,
          16694586833,
          20398752778,
          15671695419,
          14112271569,
          24229379040,
          19996346479,
          13475088420,
          12956392794,
          14667362261,
          18505316594,
          19899129709,
          24334160208,
          16545952051,
          17583869743,
          18711981509,
          9814393443,
          16789646111,
          16036594903,
          19618787988,
          13400799639,
          23193121362,
          14634573956,
          16151404605,
          23263234592,
          8039306948,
          13022229032,
          53386751228,
          16999907105,
          15433153908,
          11795485473,
          24839063221,
          13744471188,
          12530155484,
          7577333000,
          12789115698,
          11830132973,
          9279930391,
          10584082649,
          14935005348,
          17847780290,
          10028384275,
          9857717474,
          16053917113,
          6438877934,
          5939617823,
          554309174,
          12435259143,
          12914685124,
          6017123758,
          5223654445,
          15404239913,
          3241027636,
          23689186601,
          9020045767,
          6328088383,
          13041283902,
          11236193123,
          19096510006,
          6692528239,
          19536373590,
          10278257112,
          4151057085,
          6711838849,
          3740227273,
          16475440230,
          10987905421,
          9153296657,
          14253357504,
          6999595709,
          10280190536,
          7561196221,
          8242919144,
          7286908606,
          6406528293,
          11967155018,
          6348729079,
          9858663362,
          9894008410,
          9495750368,
          11199713086,
          6854636069,
          9534315040,
          6432024424,
          8419062111,
          13565040202,
          4388859333,
          4721370622,
          11918454879,
          6409533930,
          7577947855,
          5438012566,
          13968497628,
          10783179824,
          12979351082,
          9119867025,
          8531197930,
          3433181614,
          1314916113,
          7729323881,
          5781932607,
          19451808105,
          10808395899,
          8912503027,
          1345839890,
          5388394805,
          9326000286,
          5941101813,
          4404726516,
          4115740719,
          18436716176,
          6102779731,
          5811945530,
          5004580463,
          4028748305,
          10518046735,
          1966260662,
          8549020227,
          5658398807,
          3692221584,
          9268704548,
          7726422032,
          7399861178,
          11999986364,
          3659466058,
          2665397983,
          20219708239,
          9958947026,
          4940473759,
          6405935489,
          15018595817,
          6183850559,
          5196501306,
          4296055045,
          13662997727,
          4153844467,
          10763457454,
          7128616807,
          4552563710,
          8617068421,
          4514074611,
          6751007251,
          5649739561,
          11821116201,
          10418976938,
          9328021218,
          6256144602,
          6690382235,
          5780108081,
          5030056103,
          5905100328,
          7640979425,
          6012566606,
          10134616933,
          7059676669,
          5332547232,
          1476334365,
          13190990325,
          2262532486,
          13952879752,
          7548976997,
          2064926551,
          4654677099,
          5741869232,
          6698448077,
          15080936964,
          5200224730,
          5338043398,
          5997717755
         ],
         "yaxis": "y"
        },
        {
         "alignmentgroup": "True",
         "boxpoints": "all",
         "fillcolor": "rgba(255,255,255,0)",
         "hoveron": "points",
         "hovertemplate": "Category=Music<br>Video Views=%{y}<extra></extra>",
         "jitter": 0,
         "legendgroup": "Music",
         "line": {
          "color": "rgba(255,255,255,0)"
         },
         "marker": {
          "color": "#636efa",
          "symbol": "line-ew-open"
         },
         "name": "Music",
         "offsetgroup": "Music",
         "showlegend": false,
         "type": "box",
         "xaxis": "x2",
         "y": [
          212900271553,
          53352597784,
          19240057894,
          29598652357,
          25947702825,
          37179407050,
          29992048346,
          27004807684,
          30741513673,
          38819471815,
          27179277627,
          25334375101,
          53458257145,
          29004663326,
          30857986532,
          23058776245,
          27714189976,
          12810775364,
          28114460507,
          25915043211,
          24676643547,
          12266013874,
          25752372644,
          10134205288,
          24701070352,
          13125170526,
          21667615457,
          21651521761,
          15500577270,
          18369812498,
          22255148830,
          22257560882,
          12205382034,
          9909079287,
          20004653117,
          24784972963,
          10843342435,
          20441345965,
          13965458068,
          25955745056,
          26267502068,
          26620144607,
          21097791955,
          13769164702,
          15543812678,
          20651821146,
          15573184914,
          12272383543,
          13365050446,
          16694586833,
          20398752778,
          15671695419,
          14112271569,
          24229379040,
          19996346479,
          13475088420,
          12956392794,
          14667362261,
          18505316594,
          19899129709,
          24334160208,
          16545952051,
          17583869743,
          18711981509,
          9814393443,
          16789646111,
          16036594903,
          19618787988,
          13400799639,
          23193121362,
          14634573956,
          16151404605,
          23263234592,
          8039306948,
          13022229032,
          53386751228,
          16999907105,
          15433153908,
          11795485473,
          24839063221,
          13744471188,
          12530155484,
          7577333000,
          12789115698,
          11830132973,
          9279930391,
          10584082649,
          14935005348,
          17847780290,
          10028384275,
          9857717474,
          16053917113,
          6438877934,
          5939617823,
          554309174,
          12435259143,
          12914685124,
          6017123758,
          5223654445,
          15404239913,
          3241027636,
          23689186601,
          9020045767,
          6328088383,
          13041283902,
          11236193123,
          19096510006,
          6692528239,
          19536373590,
          10278257112,
          4151057085,
          6711838849,
          3740227273,
          16475440230,
          10987905421,
          9153296657,
          14253357504,
          6999595709,
          10280190536,
          7561196221,
          8242919144,
          7286908606,
          6406528293,
          11967155018,
          6348729079,
          9858663362,
          9894008410,
          9495750368,
          11199713086,
          6854636069,
          9534315040,
          6432024424,
          8419062111,
          13565040202,
          4388859333,
          4721370622,
          11918454879,
          6409533930,
          7577947855,
          5438012566,
          13968497628,
          10783179824,
          12979351082,
          9119867025,
          8531197930,
          3433181614,
          1314916113,
          7729323881,
          5781932607,
          19451808105,
          10808395899,
          8912503027,
          1345839890,
          5388394805,
          9326000286,
          5941101813,
          4404726516,
          4115740719,
          18436716176,
          6102779731,
          5811945530,
          5004580463,
          4028748305,
          10518046735,
          1966260662,
          8549020227,
          5658398807,
          3692221584,
          9268704548,
          7726422032,
          7399861178,
          11999986364,
          3659466058,
          2665397983,
          20219708239,
          9958947026,
          4940473759,
          6405935489,
          15018595817,
          6183850559,
          5196501306,
          4296055045,
          13662997727,
          4153844467,
          10763457454,
          7128616807,
          4552563710,
          8617068421,
          4514074611,
          6751007251,
          5649739561,
          11821116201,
          10418976938,
          9328021218,
          6256144602,
          6690382235,
          5780108081,
          5030056103,
          5905100328,
          7640979425,
          6012566606,
          10134616933,
          7059676669,
          5332547232,
          1476334365,
          13190990325,
          2262532486,
          13952879752,
          7548976997,
          2064926551,
          4654677099,
          5741869232,
          6698448077,
          15080936964,
          5200224730,
          5338043398,
          5997717755
         ],
         "yaxis": "y2"
        },
        {
         "hovertemplate": "Category=Film & Animation<br>Subscribers=%{x}<br>Video Views=%{marker.size}<extra></extra>",
         "legendgroup": "Film & Animation",
         "marker": {
          "color": "#EF553B",
          "size": [
           0,
           21296568609,
           59493925856,
           32068851747,
           34577807066,
           16678003928,
           24453480427,
           12212768270,
           10348265538,
           21914217722,
           15906054081,
           21511413683,
           7870463275,
           12088612689,
           2432186480,
           7881575502,
           7740625371,
           6123652788,
           5166413550,
           7495214886,
           2098934903,
           4743371214,
           4196825167,
           11094654170,
           7980058405,
           9348596042,
           10387951650,
           13525916236,
           4718631830,
           882443900,
           3253691948,
           8363104683,
           7351212171,
           6004959028,
           14409863239,
           12949835683,
           6963014694,
           9504390823,
           5445559517,
           3954915463,
           8683956869,
           2214543452,
           4055556450,
           7085568806,
           1169023702,
           2203766508,
           8759719169,
           0,
           7017537235,
           2415688324
          ],
          "sizemode": "area",
          "sizeref": 85160108.6212,
          "symbol": "circle"
         },
         "mode": "markers",
         "name": "Film & Animation",
         "orientation": "v",
         "showlegend": true,
         "type": "scatter",
         "x": [
          161000000,
          81200000,
          58500000,
          51000000,
          40900000,
          32800000,
          32300000,
          32200000,
          30700000,
          30000000,
          29900000,
          26300000,
          26300000,
          25900000,
          24900000,
          24400000,
          23200000,
          22800000,
          22800000,
          22700000,
          21500000,
          21200000,
          20200000,
          20000000,
          19800000,
          19300000,
          18900000,
          18500000,
          17600000,
          17400000,
          16900000,
          16700000,
          16700000,
          16200000,
          15900000,
          15700000,
          15600000,
          15300000,
          15200000,
          14200000,
          14000000,
          13800000,
          12800000,
          12000000,
          11900000,
          11800000,
          11700000,
          11600000,
          11500000,
          11500000
         ],
         "xaxis": "x",
         "y": [
          0,
          21296568609,
          59493925856,
          32068851747,
          34577807066,
          16678003928,
          24453480427,
          12212768270,
          10348265538,
          21914217722,
          15906054081,
          21511413683,
          7870463275,
          12088612689,
          2432186480,
          7881575502,
          7740625371,
          6123652788,
          5166413550,
          7495214886,
          2098934903,
          4743371214,
          4196825167,
          11094654170,
          7980058405,
          9348596042,
          10387951650,
          13525916236,
          4718631830,
          882443900,
          3253691948,
          8363104683,
          7351212171,
          6004959028,
          14409863239,
          12949835683,
          6963014694,
          9504390823,
          5445559517,
          3954915463,
          8683956869,
          2214543452,
          4055556450,
          7085568806,
          1169023702,
          2203766508,
          8759719169,
          0,
          7017537235,
          2415688324
         ],
         "yaxis": "y"
        },
        {
         "alignmentgroup": "True",
         "boxpoints": "all",
         "fillcolor": "rgba(255,255,255,0)",
         "hoveron": "points",
         "hovertemplate": "Category=Film & Animation<br>Video Views=%{y}<extra></extra>",
         "jitter": 0,
         "legendgroup": "Film & Animation",
         "line": {
          "color": "rgba(255,255,255,0)"
         },
         "marker": {
          "color": "#EF553B",
          "symbol": "line-ew-open"
         },
         "name": "Film & Animation",
         "offsetgroup": "Film & Animation",
         "showlegend": false,
         "type": "box",
         "xaxis": "x2",
         "y": [
          0,
          21296568609,
          59493925856,
          32068851747,
          34577807066,
          16678003928,
          24453480427,
          12212768270,
          10348265538,
          21914217722,
          15906054081,
          21511413683,
          7870463275,
          12088612689,
          2432186480,
          7881575502,
          7740625371,
          6123652788,
          5166413550,
          7495214886,
          2098934903,
          4743371214,
          4196825167,
          11094654170,
          7980058405,
          9348596042,
          10387951650,
          13525916236,
          4718631830,
          882443900,
          3253691948,
          8363104683,
          7351212171,
          6004959028,
          14409863239,
          12949835683,
          6963014694,
          9504390823,
          5445559517,
          3954915463,
          8683956869,
          2214543452,
          4055556450,
          7085568806,
          1169023702,
          2203766508,
          8759719169,
          0,
          7017537235,
          2415688324
         ],
         "yaxis": "y2"
        },
        {
         "hovertemplate": "Category=Education<br>Subscribers=%{x}<br>Video Views=%{marker.size}<extra></extra>",
         "legendgroup": "Education",
         "marker": {
          "color": "#00cc96",
          "size": [
           149084178448,
           35934421688,
           41904239949,
           8662901485,
           27621598218,
           38573516896,
           40905820903,
           19319626738,
           25291836510,
           22122295687,
           21402553443,
           17027319292,
           13913156831,
           12546008350,
           1597414298,
           2202583880,
           1894638004,
           11153601710,
           10298145297,
           6734367221,
           4794323084,
           8959749076,
           3461555664,
           13959924964,
           8294504544,
           10834472832,
           2928896155,
           2945021956,
           10218745464,
           2013468687,
           1142389053,
           1766841770,
           6926902432,
           3504832993,
           5075166188,
           8144734008,
           1958582942,
           4955237714,
           2840870688,
           4872169397,
           3361880534,
           6850021546,
           5744088014,
           4366561548,
           3825084
          ],
          "sizemode": "area",
          "sizeref": 85160108.6212,
          "symbol": "circle"
         },
         "mode": "markers",
         "name": "Education",
         "orientation": "v",
         "showlegend": true,
         "type": "scatter",
         "x": [
          152000000,
          64600000,
          61100000,
          49700000,
          48400000,
          40600000,
          37400000,
          31700000,
          31300000,
          31100000,
          29200000,
          27600000,
          26900000,
          22100000,
          20400000,
          19900000,
          19800000,
          19400000,
          19100000,
          18600000,
          18600000,
          18300000,
          18100000,
          17100000,
          16700000,
          16600000,
          15800000,
          15100000,
          15000000,
          14900000,
          14600000,
          14400000,
          14200000,
          13600000,
          13600000,
          13400000,
          13300000,
          13100000,
          12900000,
          12800000,
          12500000,
          12500000,
          12400000,
          11800000,
          11400000
         ],
         "xaxis": "x",
         "y": [
          149084178448,
          35934421688,
          41904239949,
          8662901485,
          27621598218,
          38573516896,
          40905820903,
          19319626738,
          25291836510,
          22122295687,
          21402553443,
          17027319292,
          13913156831,
          12546008350,
          1597414298,
          2202583880,
          1894638004,
          11153601710,
          10298145297,
          6734367221,
          4794323084,
          8959749076,
          3461555664,
          13959924964,
          8294504544,
          10834472832,
          2928896155,
          2945021956,
          10218745464,
          2013468687,
          1142389053,
          1766841770,
          6926902432,
          3504832993,
          5075166188,
          8144734008,
          1958582942,
          4955237714,
          2840870688,
          4872169397,
          3361880534,
          6850021546,
          5744088014,
          4366561548,
          3825084
         ],
         "yaxis": "y"
        },
        {
         "alignmentgroup": "True",
         "boxpoints": "all",
         "fillcolor": "rgba(255,255,255,0)",
         "hoveron": "points",
         "hovertemplate": "Category=Education<br>Video Views=%{y}<extra></extra>",
         "jitter": 0,
         "legendgroup": "Education",
         "line": {
          "color": "rgba(255,255,255,0)"
         },
         "marker": {
          "color": "#00cc96",
          "symbol": "line-ew-open"
         },
         "name": "Education",
         "offsetgroup": "Education",
         "showlegend": false,
         "type": "box",
         "xaxis": "x2",
         "y": [
          149084178448,
          35934421688,
          41904239949,
          8662901485,
          27621598218,
          38573516896,
          40905820903,
          19319626738,
          25291836510,
          22122295687,
          21402553443,
          17027319292,
          13913156831,
          12546008350,
          1597414298,
          2202583880,
          1894638004,
          11153601710,
          10298145297,
          6734367221,
          4794323084,
          8959749076,
          3461555664,
          13959924964,
          8294504544,
          10834472832,
          2928896155,
          2945021956,
          10218745464,
          2013468687,
          1142389053,
          1766841770,
          6926902432,
          3504832993,
          5075166188,
          8144734008,
          1958582942,
          4955237714,
          2840870688,
          4872169397,
          3361880534,
          6850021546,
          5744088014,
          4366561548,
          3825084
         ],
         "yaxis": "y2"
        },
        {
         "hovertemplate": "Category=Shows<br>Subscribers=%{x}<br>Video Views=%{marker.size}<extra></extra>",
         "legendgroup": "Shows",
         "marker": {
          "color": "#ab63fa",
          "size": [
           137828094104,
           91117292875,
           57825649653,
           21850302761,
           25906208404,
           10219405165,
           12481540293,
           12395713325,
           7708404844,
           15855344146,
           7223914427,
           6194817833,
           5223502987,
           8058549344
          ],
          "sizemode": "area",
          "sizeref": 85160108.6212,
          "symbol": "circle"
         },
         "mode": "markers",
         "name": "Shows",
         "orientation": "v",
         "showlegend": true,
         "type": "scatter",
         "x": [
          150000000,
          76400000,
          59300000,
          38500000,
          35300000,
          31500000,
          21200000,
          18100000,
          18000000,
          17800000,
          13900000,
          13100000,
          12100000,
          11500000
         ],
         "xaxis": "x",
         "y": [
          137828094104,
          91117292875,
          57825649653,
          21850302761,
          25906208404,
          10219405165,
          12481540293,
          12395713325,
          7708404844,
          15855344146,
          7223914427,
          6194817833,
          5223502987,
          8058549344
         ],
         "yaxis": "y"
        },
        {
         "alignmentgroup": "True",
         "boxpoints": "all",
         "fillcolor": "rgba(255,255,255,0)",
         "hoveron": "points",
         "hovertemplate": "Category=Shows<br>Video Views=%{y}<extra></extra>",
         "jitter": 0,
         "legendgroup": "Shows",
         "line": {
          "color": "rgba(255,255,255,0)"
         },
         "marker": {
          "color": "#ab63fa",
          "symbol": "line-ew-open"
         },
         "name": "Shows",
         "offsetgroup": "Shows",
         "showlegend": false,
         "type": "box",
         "xaxis": "x2",
         "y": [
          137828094104,
          91117292875,
          57825649653,
          21850302761,
          25906208404,
          10219405165,
          12481540293,
          12395713325,
          7708404844,
          15855344146,
          7223914427,
          6194817833,
          5223502987,
          8058549344
         ],
         "yaxis": "y2"
        },
        {
         "hovertemplate": "Category=Entertainment<br>Subscribers=%{x}<br>Video Views=%{marker.size}<extra></extra>",
         "legendgroup": "Entertainment",
         "marker": {
          "color": "#FFA15A",
          "size": [
           21549128785,
           72444118381,
           31291572708,
           14014958483,
           19053487396,
           16043230315,
           29251998725,
           7597909400,
           22419193201,
           4782790153,
           19620244169,
           19124111758,
           21169959746,
           32383019054,
           44190624959,
           22535632362,
           36234268240,
           32307389493,
           26380324996,
           17250777103,
           53646314889,
           20928776913,
           17279122597,
           13568878190,
           14805801427,
           4140958197,
           13320447980,
           19514803427,
           27835242571,
           26743403629,
           9575572393,
           5588992559,
           10200658256,
           15715787972,
           7380286067,
           3225286925,
           4551592957,
           7639482143,
           6483549335,
           6694749616,
           6909579235,
           18007460762,
           20138982531,
           13336947331,
           2318923728,
           6514271600,
           5957939168,
           3801089461,
           5941251199,
           11843614429,
           2959484997,
           4634400513,
           21710473619,
           6648113808,
           5868977921,
           13648354447,
           10303170016,
           1835511828,
           10979800678,
           6488980036,
           14105493980,
           4370083736,
           19851368612,
           10240499274,
           7157996223,
           10103545946,
           12067861694,
           12775779195,
           8634660945,
           4530671605,
           13922559602,
           5423946266,
           4721367276,
           13034733249,
           3575349122,
           3492581724,
           14121021396,
           4479493326,
           10043931480,
           9955629684,
           3746499230,
           7026825607,
           8094731450,
           22112969982,
           10861607676,
           12813467160,
           9298810737,
           7381208895,
           5821736442,
           23853253686,
           14504815566,
           21334941386,
           11925825823,
           9107660642,
           4002276841,
           3225823404,
           8423256648,
           4830469564,
           4945831582,
           4757429214,
           7507770910,
           2174714518,
           10634149767,
           5521857617,
           5989666543,
           8040940941,
           3816302459,
           6498360254,
           8351014001,
           9293500431,
           13143495790,
           6589244611,
           2254760246,
           9054329371,
           2788971456,
           24308798996,
           11868564808,
           4417232834,
           10742466800,
           13685363296,
           7878433444,
           8485722090,
           7196345505,
           3417845312,
           6888875020,
           12747937025,
           4252623917,
           8671201657,
           8793190045,
           1389142126,
           1510667954,
           11557692368,
           19694349295,
           2225693980,
           8901924388,
           4983504473,
           2460524932,
           8244957082,
           6499358216,
           6380721763,
           9305643080,
           10806573025,
           1420188529,
           3967426418,
           4878915354,
           4250594230,
           2419017151,
           2205484273,
           3776846510,
           1470903214,
           4527781812,
           1229782720,
           8198866613,
           12218689931,
           1712621922,
           4759610926,
           11093115317,
           5733132609,
           5638664089,
           4549054595,
           3016401555,
           15032205882,
           6880342887,
           2516908404,
           13991553391,
           7683242415,
           3544300212,
           3808039710,
           6638937132,
           8202234385,
           4498785156,
           3485653689,
           8821803304,
           3219797084,
           6846976290,
           17189678828,
           8202521798,
           5216526296,
           1916175410,
           6516846097,
           4646460697,
           4958656890,
           14095534282,
           3705891507,
           9265994462,
           8883292835,
           7736404007,
           3140352689,
           15474314657,
           7814517029,
           139450407,
           2792917860,
           10664585,
           8095947007,
           5243538335,
           3398836213,
           1781566597,
           3847800217,
           10739183295,
           6767680381,
           2659524359,
           3085412541,
           6857230232,
           2081891117,
           2515063658,
           3902273032,
           4862085005,
           9481436539,
           2498175486,
           3776103044,
           4582763542,
           3433210811,
           1108603203,
           3606270407,
           1050713750,
           4018076796,
           4803479418,
           3948740983,
           4748565465,
           12118657768,
           1538871204,
           1524031933,
           7425242681,
           2227343024,
           11599265811,
           6617278334,
           4154119625,
           1572887708,
           10392111852,
           10538459750,
           4615066353,
           1046651653,
           8002520517,
           4692757292,
           1542774923,
           4830020688,
           8465443935,
           7254635746
          ],
          "sizemode": "area",
          "sizeref": 85160108.6212,
          "symbol": "circle"
         },
         "mode": "markers",
         "name": "Entertainment",
         "orientation": "v",
         "showlegend": true,
         "type": "scatter",
         "x": [
          128000000,
          92700000,
          65400000,
          56100000,
          46300000,
          44800000,
          44200000,
          44100000,
          44000000,
          43400000,
          42300000,
          42100000,
          40900000,
          38600000,
          38400000,
          38300000,
          38100000,
          36700000,
          36000000,
          35900000,
          34200000,
          32500000,
          32000000,
          32000000,
          31200000,
          30100000,
          29900000,
          29700000,
          29600000,
          29200000,
          28600000,
          28400000,
          28000000,
          26900000,
          26200000,
          25900000,
          25800000,
          25800000,
          25700000,
          25700000,
          25500000,
          25200000,
          24900000,
          24300000,
          24300000,
          24000000,
          24000000,
          23800000,
          23600000,
          23400000,
          23400000,
          23100000,
          23100000,
          22900000,
          22700000,
          22700000,
          22400000,
          22400000,
          21900000,
          21400000,
          21400000,
          21100000,
          21000000,
          20700000,
          20400000,
          20400000,
          20300000,
          20300000,
          20300000,
          20200000,
          20100000,
          20000000,
          20000000,
          20000000,
          19900000,
          19900000,
          19800000,
          19800000,
          19700000,
          19700000,
          19700000,
          19200000,
          19200000,
          19100000,
          19100000,
          19000000,
          18900000,
          18900000,
          18700000,
          18600000,
          18600000,
          18500000,
          18500000,
          18300000,
          18300000,
          18100000,
          18100000,
          18000000,
          17600000,
          17600000,
          17600000,
          17600000,
          17500000,
          17500000,
          17000000,
          17000000,
          17000000,
          16800000,
          16800000,
          16700000,
          16700000,
          16700000,
          16700000,
          16600000,
          16600000,
          16600000,
          16500000,
          16500000,
          16300000,
          16200000,
          16100000,
          16100000,
          16100000,
          16100000,
          16000000,
          16000000,
          15900000,
          15800000,
          15700000,
          15700000,
          15600000,
          15600000,
          15500000,
          15500000,
          15400000,
          15300000,
          15300000,
          15200000,
          15200000,
          15200000,
          15100000,
          15100000,
          15000000,
          14800000,
          14800000,
          14700000,
          14700000,
          14600000,
          14600000,
          14600000,
          14600000,
          14600000,
          14600000,
          14500000,
          14500000,
          14500000,
          14400000,
          14400000,
          14400000,
          14400000,
          14400000,
          14300000,
          14300000,
          14200000,
          14200000,
          14200000,
          14100000,
          14100000,
          14000000,
          14000000,
          14000000,
          14000000,
          14000000,
          13900000,
          13900000,
          13800000,
          13800000,
          13800000,
          13700000,
          13500000,
          13300000,
          13300000,
          13300000,
          13300000,
          13200000,
          13200000,
          13100000,
          13100000,
          13100000,
          13100000,
          13000000,
          13000000,
          13000000,
          13000000,
          13000000,
          13000000,
          13000000,
          12900000,
          12900000,
          12900000,
          12800000,
          12800000,
          12800000,
          12800000,
          12800000,
          12800000,
          12700000,
          12700000,
          12600000,
          12500000,
          12500000,
          12500000,
          12500000,
          12400000,
          12400000,
          12300000,
          12300000,
          12300000,
          12200000,
          12200000,
          12200000,
          12200000,
          12100000,
          12100000,
          12000000,
          11900000,
          11900000,
          11900000,
          11900000,
          11800000,
          11800000,
          11600000,
          11600000,
          11600000,
          11500000,
          11500000,
          11500000,
          11500000
         ],
         "xaxis": "x",
         "y": [
          21549128785,
          72444118381,
          31291572708,
          14014958483,
          19053487396,
          16043230315,
          29251998725,
          7597909400,
          22419193201,
          4782790153,
          19620244169,
          19124111758,
          21169959746,
          32383019054,
          44190624959,
          22535632362,
          36234268240,
          32307389493,
          26380324996,
          17250777103,
          53646314889,
          20928776913,
          17279122597,
          13568878190,
          14805801427,
          4140958197,
          13320447980,
          19514803427,
          27835242571,
          26743403629,
          9575572393,
          5588992559,
          10200658256,
          15715787972,
          7380286067,
          3225286925,
          4551592957,
          7639482143,
          6483549335,
          6694749616,
          6909579235,
          18007460762,
          20138982531,
          13336947331,
          2318923728,
          6514271600,
          5957939168,
          3801089461,
          5941251199,
          11843614429,
          2959484997,
          4634400513,
          21710473619,
          6648113808,
          5868977921,
          13648354447,
          10303170016,
          1835511828,
          10979800678,
          6488980036,
          14105493980,
          4370083736,
          19851368612,
          10240499274,
          7157996223,
          10103545946,
          12067861694,
          12775779195,
          8634660945,
          4530671605,
          13922559602,
          5423946266,
          4721367276,
          13034733249,
          3575349122,
          3492581724,
          14121021396,
          4479493326,
          10043931480,
          9955629684,
          3746499230,
          7026825607,
          8094731450,
          22112969982,
          10861607676,
          12813467160,
          9298810737,
          7381208895,
          5821736442,
          23853253686,
          14504815566,
          21334941386,
          11925825823,
          9107660642,
          4002276841,
          3225823404,
          8423256648,
          4830469564,
          4945831582,
          4757429214,
          7507770910,
          2174714518,
          10634149767,
          5521857617,
          5989666543,
          8040940941,
          3816302459,
          6498360254,
          8351014001,
          9293500431,
          13143495790,
          6589244611,
          2254760246,
          9054329371,
          2788971456,
          24308798996,
          11868564808,
          4417232834,
          10742466800,
          13685363296,
          7878433444,
          8485722090,
          7196345505,
          3417845312,
          6888875020,
          12747937025,
          4252623917,
          8671201657,
          8793190045,
          1389142126,
          1510667954,
          11557692368,
          19694349295,
          2225693980,
          8901924388,
          4983504473,
          2460524932,
          8244957082,
          6499358216,
          6380721763,
          9305643080,
          10806573025,
          1420188529,
          3967426418,
          4878915354,
          4250594230,
          2419017151,
          2205484273,
          3776846510,
          1470903214,
          4527781812,
          1229782720,
          8198866613,
          12218689931,
          1712621922,
          4759610926,
          11093115317,
          5733132609,
          5638664089,
          4549054595,
          3016401555,
          15032205882,
          6880342887,
          2516908404,
          13991553391,
          7683242415,
          3544300212,
          3808039710,
          6638937132,
          8202234385,
          4498785156,
          3485653689,
          8821803304,
          3219797084,
          6846976290,
          17189678828,
          8202521798,
          5216526296,
          1916175410,
          6516846097,
          4646460697,
          4958656890,
          14095534282,
          3705891507,
          9265994462,
          8883292835,
          7736404007,
          3140352689,
          15474314657,
          7814517029,
          139450407,
          2792917860,
          10664585,
          8095947007,
          5243538335,
          3398836213,
          1781566597,
          3847800217,
          10739183295,
          6767680381,
          2659524359,
          3085412541,
          6857230232,
          2081891117,
          2515063658,
          3902273032,
          4862085005,
          9481436539,
          2498175486,
          3776103044,
          4582763542,
          3433210811,
          1108603203,
          3606270407,
          1050713750,
          4018076796,
          4803479418,
          3948740983,
          4748565465,
          12118657768,
          1538871204,
          1524031933,
          7425242681,
          2227343024,
          11599265811,
          6617278334,
          4154119625,
          1572887708,
          10392111852,
          10538459750,
          4615066353,
          1046651653,
          8002520517,
          4692757292,
          1542774923,
          4830020688,
          8465443935,
          7254635746
         ],
         "yaxis": "y"
        },
        {
         "alignmentgroup": "True",
         "boxpoints": "all",
         "fillcolor": "rgba(255,255,255,0)",
         "hoveron": "points",
         "hovertemplate": "Category=Entertainment<br>Video Views=%{y}<extra></extra>",
         "jitter": 0,
         "legendgroup": "Entertainment",
         "line": {
          "color": "rgba(255,255,255,0)"
         },
         "marker": {
          "color": "#FFA15A",
          "symbol": "line-ew-open"
         },
         "name": "Entertainment",
         "offsetgroup": "Entertainment",
         "showlegend": false,
         "type": "box",
         "xaxis": "x2",
         "y": [
          21549128785,
          72444118381,
          31291572708,
          14014958483,
          19053487396,
          16043230315,
          29251998725,
          7597909400,
          22419193201,
          4782790153,
          19620244169,
          19124111758,
          21169959746,
          32383019054,
          44190624959,
          22535632362,
          36234268240,
          32307389493,
          26380324996,
          17250777103,
          53646314889,
          20928776913,
          17279122597,
          13568878190,
          14805801427,
          4140958197,
          13320447980,
          19514803427,
          27835242571,
          26743403629,
          9575572393,
          5588992559,
          10200658256,
          15715787972,
          7380286067,
          3225286925,
          4551592957,
          7639482143,
          6483549335,
          6694749616,
          6909579235,
          18007460762,
          20138982531,
          13336947331,
          2318923728,
          6514271600,
          5957939168,
          3801089461,
          5941251199,
          11843614429,
          2959484997,
          4634400513,
          21710473619,
          6648113808,
          5868977921,
          13648354447,
          10303170016,
          1835511828,
          10979800678,
          6488980036,
          14105493980,
          4370083736,
          19851368612,
          10240499274,
          7157996223,
          10103545946,
          12067861694,
          12775779195,
          8634660945,
          4530671605,
          13922559602,
          5423946266,
          4721367276,
          13034733249,
          3575349122,
          3492581724,
          14121021396,
          4479493326,
          10043931480,
          9955629684,
          3746499230,
          7026825607,
          8094731450,
          22112969982,
          10861607676,
          12813467160,
          9298810737,
          7381208895,
          5821736442,
          23853253686,
          14504815566,
          21334941386,
          11925825823,
          9107660642,
          4002276841,
          3225823404,
          8423256648,
          4830469564,
          4945831582,
          4757429214,
          7507770910,
          2174714518,
          10634149767,
          5521857617,
          5989666543,
          8040940941,
          3816302459,
          6498360254,
          8351014001,
          9293500431,
          13143495790,
          6589244611,
          2254760246,
          9054329371,
          2788971456,
          24308798996,
          11868564808,
          4417232834,
          10742466800,
          13685363296,
          7878433444,
          8485722090,
          7196345505,
          3417845312,
          6888875020,
          12747937025,
          4252623917,
          8671201657,
          8793190045,
          1389142126,
          1510667954,
          11557692368,
          19694349295,
          2225693980,
          8901924388,
          4983504473,
          2460524932,
          8244957082,
          6499358216,
          6380721763,
          9305643080,
          10806573025,
          1420188529,
          3967426418,
          4878915354,
          4250594230,
          2419017151,
          2205484273,
          3776846510,
          1470903214,
          4527781812,
          1229782720,
          8198866613,
          12218689931,
          1712621922,
          4759610926,
          11093115317,
          5733132609,
          5638664089,
          4549054595,
          3016401555,
          15032205882,
          6880342887,
          2516908404,
          13991553391,
          7683242415,
          3544300212,
          3808039710,
          6638937132,
          8202234385,
          4498785156,
          3485653689,
          8821803304,
          3219797084,
          6846976290,
          17189678828,
          8202521798,
          5216526296,
          1916175410,
          6516846097,
          4646460697,
          4958656890,
          14095534282,
          3705891507,
          9265994462,
          8883292835,
          7736404007,
          3140352689,
          15474314657,
          7814517029,
          139450407,
          2792917860,
          10664585,
          8095947007,
          5243538335,
          3398836213,
          1781566597,
          3847800217,
          10739183295,
          6767680381,
          2659524359,
          3085412541,
          6857230232,
          2081891117,
          2515063658,
          3902273032,
          4862085005,
          9481436539,
          2498175486,
          3776103044,
          4582763542,
          3433210811,
          1108603203,
          3606270407,
          1050713750,
          4018076796,
          4803479418,
          3948740983,
          4748565465,
          12118657768,
          1538871204,
          1524031933,
          7425242681,
          2227343024,
          11599265811,
          6617278334,
          4154119625,
          1572887708,
          10392111852,
          10538459750,
          4615066353,
          1046651653,
          8002520517,
          4692757292,
          1542774923,
          4830020688,
          8465443935,
          7254635746
         ],
         "yaxis": "y2"
        },
        {
         "hovertemplate": "Category=Gaming<br>Subscribers=%{x}<br>Video Views=%{marker.size}<extra></extra>",
         "legendgroup": "Gaming",
         "marker": {
          "color": "#19d3f3",
          "size": [
           28851883250,
           14143277535,
           10146422791,
           19946220349,
           7581423100,
           14997302673,
           5297672072,
           19491886710,
           15182606203,
           22265406473,
           12837585247,
           2836785859,
           8412805750,
           5426458352,
           15857360480,
           3963824628,
           18960251968,
           15227182993,
           2487798349,
           5920064550,
           14485790472,
           6749344707,
           7505683763,
           12843659340,
           23294730097,
           8589202733,
           7815657879,
           8887964445,
           3776148455,
           2709808489,
           5636137133,
           5876845993,
           3282682574,
           6224159661,
           9615343524,
           8214755372,
           14524539590,
           15298075378,
           4910825286,
           8750698468,
           8960360548,
           3707682281,
           4742756117,
           3918358139,
           2996209632,
           9619633601,
           1570800772,
           6483995439,
           1592421777,
           15163928090,
           1173340373,
           4188172463,
           6911362560,
           8230219714,
           6168742287,
           2994145139,
           6745121120,
           5132197532,
           4489317917,
           6250633875,
           6090258521,
           2170163026,
           5195437365,
           4889142949,
           5488153625,
           261499585,
           10608345270,
           2019571122,
           6130084420,
           2030227951,
           4286767975,
           5932290734,
           5078316051,
           1944961599,
           4072134308,
           2244181201,
           6687118830,
           5257749726,
           3587873026,
           3690336615,
           1054626166,
           2358986498,
           1852421314,
           6632558338,
           2686843858,
           1305860534,
           6704978227,
           4011244826,
           1680228521,
           268739666,
           1488520716,
           1449647680,
           9569061994,
           2780058418
          ],
          "sizemode": "area",
          "sizeref": 85160108.6212,
          "symbol": "circle"
         },
         "mode": "markers",
         "name": "Gaming",
         "orientation": "v",
         "showlegend": true,
         "type": "scatter",
         "x": [
          111000000,
          47000000,
          45600000,
          43900000,
          40400000,
          36600000,
          34300000,
          34300000,
          33600000,
          33200000,
          31500000,
          31300000,
          31200000,
          30800000,
          29000000,
          27700000,
          26300000,
          25800000,
          23800000,
          23500000,
          23200000,
          22700000,
          22600000,
          21700000,
          21500000,
          20300000,
          20200000,
          20100000,
          19300000,
          19300000,
          19000000,
          18100000,
          18100000,
          17800000,
          17700000,
          17600000,
          17200000,
          17200000,
          17100000,
          17000000,
          16900000,
          16500000,
          16300000,
          16200000,
          16100000,
          15900000,
          15700000,
          15500000,
          15400000,
          15300000,
          15300000,
          15100000,
          15000000,
          15000000,
          14900000,
          14900000,
          14800000,
          14800000,
          14600000,
          14600000,
          14500000,
          14500000,
          14000000,
          14000000,
          14000000,
          13900000,
          13700000,
          13600000,
          13400000,
          13400000,
          13300000,
          13200000,
          13200000,
          13100000,
          13100000,
          13100000,
          12900000,
          12900000,
          12800000,
          12600000,
          12500000,
          12400000,
          12300000,
          12200000,
          12100000,
          12100000,
          12100000,
          11800000,
          11800000,
          11800000,
          11700000,
          11600000,
          11500000,
          11500000
         ],
         "xaxis": "x",
         "y": [
          28851883250,
          14143277535,
          10146422791,
          19946220349,
          7581423100,
          14997302673,
          5297672072,
          19491886710,
          15182606203,
          22265406473,
          12837585247,
          2836785859,
          8412805750,
          5426458352,
          15857360480,
          3963824628,
          18960251968,
          15227182993,
          2487798349,
          5920064550,
          14485790472,
          6749344707,
          7505683763,
          12843659340,
          23294730097,
          8589202733,
          7815657879,
          8887964445,
          3776148455,
          2709808489,
          5636137133,
          5876845993,
          3282682574,
          6224159661,
          9615343524,
          8214755372,
          14524539590,
          15298075378,
          4910825286,
          8750698468,
          8960360548,
          3707682281,
          4742756117,
          3918358139,
          2996209632,
          9619633601,
          1570800772,
          6483995439,
          1592421777,
          15163928090,
          1173340373,
          4188172463,
          6911362560,
          8230219714,
          6168742287,
          2994145139,
          6745121120,
          5132197532,
          4489317917,
          6250633875,
          6090258521,
          2170163026,
          5195437365,
          4889142949,
          5488153625,
          261499585,
          10608345270,
          2019571122,
          6130084420,
          2030227951,
          4286767975,
          5932290734,
          5078316051,
          1944961599,
          4072134308,
          2244181201,
          6687118830,
          5257749726,
          3587873026,
          3690336615,
          1054626166,
          2358986498,
          1852421314,
          6632558338,
          2686843858,
          1305860534,
          6704978227,
          4011244826,
          1680228521,
          268739666,
          1488520716,
          1449647680,
          9569061994,
          2780058418
         ],
         "yaxis": "y"
        },
        {
         "alignmentgroup": "True",
         "boxpoints": "all",
         "fillcolor": "rgba(255,255,255,0)",
         "hoveron": "points",
         "hovertemplate": "Category=Gaming<br>Video Views=%{y}<extra></extra>",
         "jitter": 0,
         "legendgroup": "Gaming",
         "line": {
          "color": "rgba(255,255,255,0)"
         },
         "marker": {
          "color": "#19d3f3",
          "symbol": "line-ew-open"
         },
         "name": "Gaming",
         "offsetgroup": "Gaming",
         "showlegend": false,
         "type": "box",
         "xaxis": "x2",
         "y": [
          28851883250,
          14143277535,
          10146422791,
          19946220349,
          7581423100,
          14997302673,
          5297672072,
          19491886710,
          15182606203,
          22265406473,
          12837585247,
          2836785859,
          8412805750,
          5426458352,
          15857360480,
          3963824628,
          18960251968,
          15227182993,
          2487798349,
          5920064550,
          14485790472,
          6749344707,
          7505683763,
          12843659340,
          23294730097,
          8589202733,
          7815657879,
          8887964445,
          3776148455,
          2709808489,
          5636137133,
          5876845993,
          3282682574,
          6224159661,
          9615343524,
          8214755372,
          14524539590,
          15298075378,
          4910825286,
          8750698468,
          8960360548,
          3707682281,
          4742756117,
          3918358139,
          2996209632,
          9619633601,
          1570800772,
          6483995439,
          1592421777,
          15163928090,
          1173340373,
          4188172463,
          6911362560,
          8230219714,
          6168742287,
          2994145139,
          6745121120,
          5132197532,
          4489317917,
          6250633875,
          6090258521,
          2170163026,
          5195437365,
          4889142949,
          5488153625,
          261499585,
          10608345270,
          2019571122,
          6130084420,
          2030227951,
          4286767975,
          5932290734,
          5078316051,
          1944961599,
          4072134308,
          2244181201,
          6687118830,
          5257749726,
          3587873026,
          3690336615,
          1054626166,
          2358986498,
          1852421314,
          6632558338,
          2686843858,
          1305860534,
          6704978227,
          4011244826,
          1680228521,
          268739666,
          1488520716,
          1449647680,
          9569061994,
          2780058418
         ],
         "yaxis": "y2"
        },
        {
         "hovertemplate": "Category=People & Blogs<br>Subscribers=%{x}<br>Video Views=%{marker.size}<extra></extra>",
         "legendgroup": "People & Blogs",
         "marker": {
          "color": "#FF6692",
          "size": [
           86638570921,
           87202935675,
           28723286185,
           48815821642,
           25428049775,
           4939734902,
           21415852275,
           22249785330,
           20196597873,
           22536784457,
           11605665353,
           5641597942,
           2166469190,
           7284096508,
           9416242649,
           6067761738,
           8539357204,
           7231058050,
           10175012401,
           15188885182,
           14256869917,
           6140529899,
           14745436214,
           8499075726,
           2457759405,
           16972853327,
           6044449696,
           3212940190,
           11361253531,
           4345134335,
           17384448140,
           6630097487,
           5505799443,
           8599968109,
           7265786652,
           17844881541,
           12720012557,
           5365814568,
           7282536298,
           4299052383,
           1561914983,
           7641524111,
           5746273984,
           7357083297,
           2625744578,
           3637385950,
           4537971345,
           2704243391,
           3120813439,
           2721117176,
           7829592220,
           7133819223,
           3879359888,
           9087666286,
           10106144506,
           6384571384,
           3442581311,
           3346610028,
           18006604541,
           4984777868,
           4757748651,
           2632505818,
           5462269239,
           4576518768,
           5866531040,
           1726182121,
           3717214603,
           439098,
           1687036510,
           8365145978,
           4561478126,
           20308004462,
           4970086311,
           4731422538,
           4769579782,
           4967167049,
           1298647040,
           3019345430,
           8280623350,
           5083756024,
           2674135169,
           8835220816,
           6142842116,
           4525713851,
           8122982712,
           4871205567,
           4752029228,
           12789057206,
           2129901800,
           1426482050,
           6631847487,
           4179824130,
           7822230597,
           1360273293,
           5483428689,
           1684387848,
           1768376077,
           8736936076,
           3624179675,
           2704763663,
           11198318568,
           5848562902,
           1302818088,
           7984381092,
           3107426903,
           14695012005,
           2814118004,
           3888668815,
           8670899572,
           5186482167,
           5430906777,
           777504993,
           2821237136,
           5655945454,
           4528828203,
           1767257262,
           1880211143,
           1567419173,
           2811346388,
           7271047228,
           6575858204,
           2013778695,
           5254014931,
           1659725078,
           8253741205,
           1486885351,
           2599025008,
           12712546262,
           2971992503,
           11471384709,
           2143444281,
           2480064722
          ],
          "sizemode": "area",
          "sizeref": 85160108.6212,
          "symbol": "circle"
         },
         "mode": "markers",
         "name": "People & Blogs",
         "orientation": "v",
         "showlegend": true,
         "type": "scatter",
         "x": [
          106000000,
          104000000,
          83900000,
          42100000,
          40100000,
          39500000,
          38700000,
          37400000,
          37000000,
          35500000,
          35100000,
          30800000,
          26900000,
          25600000,
          25000000,
          24700000,
          24100000,
          23900000,
          23700000,
          23400000,
          23200000,
          22800000,
          22600000,
          22400000,
          22400000,
          22300000,
          22100000,
          21300000,
          21100000,
          20800000,
          20700000,
          20600000,
          20600000,
          20500000,
          20300000,
          20200000,
          20000000,
          19800000,
          19400000,
          19400000,
          19300000,
          19200000,
          19000000,
          18700000,
          18600000,
          18600000,
          18600000,
          18200000,
          18200000,
          18100000,
          18100000,
          18000000,
          18000000,
          17700000,
          17700000,
          17200000,
          17000000,
          17000000,
          16800000,
          16700000,
          16300000,
          16100000,
          15400000,
          15300000,
          15300000,
          15100000,
          15000000,
          14900000,
          14800000,
          14700000,
          14700000,
          14600000,
          14500000,
          14500000,
          14400000,
          14400000,
          14300000,
          14300000,
          14200000,
          14000000,
          13900000,
          13900000,
          13900000,
          13700000,
          13700000,
          13600000,
          13500000,
          13500000,
          13500000,
          13500000,
          13400000,
          13300000,
          13200000,
          13100000,
          13000000,
          13000000,
          12800000,
          12800000,
          12800000,
          12700000,
          12700000,
          12600000,
          12500000,
          12500000,
          12500000,
          12400000,
          12400000,
          12300000,
          12300000,
          12200000,
          12200000,
          12200000,
          12200000,
          12100000,
          12100000,
          12000000,
          12000000,
          11900000,
          11900000,
          11900000,
          11900000,
          11800000,
          11700000,
          11700000,
          11700000,
          11700000,
          11600000,
          11500000,
          11500000,
          11500000,
          11400000,
          11400000
         ],
         "xaxis": "x",
         "y": [
          86638570921,
          87202935675,
          28723286185,
          48815821642,
          25428049775,
          4939734902,
          21415852275,
          22249785330,
          20196597873,
          22536784457,
          11605665353,
          5641597942,
          2166469190,
          7284096508,
          9416242649,
          6067761738,
          8539357204,
          7231058050,
          10175012401,
          15188885182,
          14256869917,
          6140529899,
          14745436214,
          8499075726,
          2457759405,
          16972853327,
          6044449696,
          3212940190,
          11361253531,
          4345134335,
          17384448140,
          6630097487,
          5505799443,
          8599968109,
          7265786652,
          17844881541,
          12720012557,
          5365814568,
          7282536298,
          4299052383,
          1561914983,
          7641524111,
          5746273984,
          7357083297,
          2625744578,
          3637385950,
          4537971345,
          2704243391,
          3120813439,
          2721117176,
          7829592220,
          7133819223,
          3879359888,
          9087666286,
          10106144506,
          6384571384,
          3442581311,
          3346610028,
          18006604541,
          4984777868,
          4757748651,
          2632505818,
          5462269239,
          4576518768,
          5866531040,
          1726182121,
          3717214603,
          439098,
          1687036510,
          8365145978,
          4561478126,
          20308004462,
          4970086311,
          4731422538,
          4769579782,
          4967167049,
          1298647040,
          3019345430,
          8280623350,
          5083756024,
          2674135169,
          8835220816,
          6142842116,
          4525713851,
          8122982712,
          4871205567,
          4752029228,
          12789057206,
          2129901800,
          1426482050,
          6631847487,
          4179824130,
          7822230597,
          1360273293,
          5483428689,
          1684387848,
          1768376077,
          8736936076,
          3624179675,
          2704763663,
          11198318568,
          5848562902,
          1302818088,
          7984381092,
          3107426903,
          14695012005,
          2814118004,
          3888668815,
          8670899572,
          5186482167,
          5430906777,
          777504993,
          2821237136,
          5655945454,
          4528828203,
          1767257262,
          1880211143,
          1567419173,
          2811346388,
          7271047228,
          6575858204,
          2013778695,
          5254014931,
          1659725078,
          8253741205,
          1486885351,
          2599025008,
          12712546262,
          2971992503,
          11471384709,
          2143444281,
          2480064722
         ],
         "yaxis": "y"
        },
        {
         "alignmentgroup": "True",
         "boxpoints": "all",
         "fillcolor": "rgba(255,255,255,0)",
         "hoveron": "points",
         "hovertemplate": "Category=People & Blogs<br>Video Views=%{y}<extra></extra>",
         "jitter": 0,
         "legendgroup": "People & Blogs",
         "line": {
          "color": "rgba(255,255,255,0)"
         },
         "marker": {
          "color": "#FF6692",
          "symbol": "line-ew-open"
         },
         "name": "People & Blogs",
         "offsetgroup": "People & Blogs",
         "showlegend": false,
         "type": "box",
         "xaxis": "x2",
         "y": [
          86638570921,
          87202935675,
          28723286185,
          48815821642,
          25428049775,
          4939734902,
          21415852275,
          22249785330,
          20196597873,
          22536784457,
          11605665353,
          5641597942,
          2166469190,
          7284096508,
          9416242649,
          6067761738,
          8539357204,
          7231058050,
          10175012401,
          15188885182,
          14256869917,
          6140529899,
          14745436214,
          8499075726,
          2457759405,
          16972853327,
          6044449696,
          3212940190,
          11361253531,
          4345134335,
          17384448140,
          6630097487,
          5505799443,
          8599968109,
          7265786652,
          17844881541,
          12720012557,
          5365814568,
          7282536298,
          4299052383,
          1561914983,
          7641524111,
          5746273984,
          7357083297,
          2625744578,
          3637385950,
          4537971345,
          2704243391,
          3120813439,
          2721117176,
          7829592220,
          7133819223,
          3879359888,
          9087666286,
          10106144506,
          6384571384,
          3442581311,
          3346610028,
          18006604541,
          4984777868,
          4757748651,
          2632505818,
          5462269239,
          4576518768,
          5866531040,
          1726182121,
          3717214603,
          439098,
          1687036510,
          8365145978,
          4561478126,
          20308004462,
          4970086311,
          4731422538,
          4769579782,
          4967167049,
          1298647040,
          3019345430,
          8280623350,
          5083756024,
          2674135169,
          8835220816,
          6142842116,
          4525713851,
          8122982712,
          4871205567,
          4752029228,
          12789057206,
          2129901800,
          1426482050,
          6631847487,
          4179824130,
          7822230597,
          1360273293,
          5483428689,
          1684387848,
          1768376077,
          8736936076,
          3624179675,
          2704763663,
          11198318568,
          5848562902,
          1302818088,
          7984381092,
          3107426903,
          14695012005,
          2814118004,
          3888668815,
          8670899572,
          5186482167,
          5430906777,
          777504993,
          2821237136,
          5655945454,
          4528828203,
          1767257262,
          1880211143,
          1567419173,
          2811346388,
          7271047228,
          6575858204,
          2013778695,
          5254014931,
          1659725078,
          8253741205,
          1486885351,
          2599025008,
          12712546262,
          2971992503,
          11471384709,
          2143444281,
          2480064722
         ],
         "yaxis": "y2"
        },
        {
         "hovertemplate": "Category=Sports<br>Subscribers=%{x}<br>Video Views=%{marker.size}<extra></extra>",
         "legendgroup": "Sports",
         "marker": {
          "color": "#B6E880",
          "size": [
           73577695222,
           15294226020,
           11509656903,
           5071198262,
           6018053330,
           7038864747,
           2392738126,
           3210551602,
           1773415670,
           2430526081
          ],
          "sizemode": "area",
          "sizeref": 85160108.6212,
          "symbol": "circle"
         },
         "mode": "markers",
         "name": "Sports",
         "orientation": "v",
         "showlegend": true,
         "type": "scatter",
         "x": [
          92800000,
          58600000,
          19700000,
          18600000,
          14800000,
          14700000,
          14500000,
          14100000,
          13100000,
          12700000
         ],
         "xaxis": "x",
         "y": [
          73577695222,
          15294226020,
          11509656903,
          5071198262,
          6018053330,
          7038864747,
          2392738126,
          3210551602,
          1773415670,
          2430526081
         ],
         "yaxis": "y"
        },
        {
         "alignmentgroup": "True",
         "boxpoints": "all",
         "fillcolor": "rgba(255,255,255,0)",
         "hoveron": "points",
         "hovertemplate": "Category=Sports<br>Video Views=%{y}<extra></extra>",
         "jitter": 0,
         "legendgroup": "Sports",
         "line": {
          "color": "rgba(255,255,255,0)"
         },
         "marker": {
          "color": "#B6E880",
          "symbol": "line-ew-open"
         },
         "name": "Sports",
         "offsetgroup": "Sports",
         "showlegend": false,
         "type": "box",
         "xaxis": "x2",
         "y": [
          73577695222,
          15294226020,
          11509656903,
          5071198262,
          6018053330,
          7038864747,
          2392738126,
          3210551602,
          1773415670,
          2430526081
         ],
         "yaxis": "y2"
        },
        {
         "hovertemplate": "Category=Howto & Style<br>Subscribers=%{x}<br>Video Views=%{marker.size}<extra></extra>",
         "legendgroup": "Howto & Style",
         "marker": {
          "color": "#FF97FF",
          "size": [
           24983430208,
           10430931571,
           6578128540,
           2586211373,
           2855477471,
           10001222206,
           5614408524,
           4997658141,
           5916449403,
           9709536467,
           5091483300,
           6536886700,
           5618139731,
           3695346065,
           2885085503,
           3617767355,
           3603087973,
           3846664788,
           2592651786,
           4334496018,
           2376552971,
           2670473667,
           3526599957,
           6593621634,
           4374008476,
           1672330718,
           2514596947,
           2147505352,
           1889199744,
           3283873970,
           2795305843,
           2233627821,
           2516352711,
           6608476174,
           4527850608,
           992361227,
           4302109080,
           1370529687,
           2645221536,
           2111580099,
           1686312058,
           1267465262,
           5652341273
          ],
          "sizemode": "area",
          "sizeref": 85160108.6212,
          "symbol": "circle"
         },
         "mode": "markers",
         "name": "Howto & Style",
         "orientation": "v",
         "showlegend": true,
         "type": "scatter",
         "x": [
          78500000,
          44300000,
          31700000,
          24900000,
          24300000,
          23400000,
          21000000,
          20800000,
          20100000,
          20100000,
          19500000,
          18000000,
          17500000,
          17400000,
          17300000,
          17100000,
          16500000,
          16300000,
          15900000,
          15300000,
          15200000,
          15000000,
          14600000,
          14300000,
          14300000,
          14100000,
          14100000,
          13800000,
          13600000,
          13300000,
          13300000,
          13100000,
          12800000,
          12700000,
          12600000,
          12600000,
          12400000,
          12000000,
          11900000,
          11800000,
          11700000,
          11700000,
          11500000
         ],
         "xaxis": "x",
         "y": [
          24983430208,
          10430931571,
          6578128540,
          2586211373,
          2855477471,
          10001222206,
          5614408524,
          4997658141,
          5916449403,
          9709536467,
          5091483300,
          6536886700,
          5618139731,
          3695346065,
          2885085503,
          3617767355,
          3603087973,
          3846664788,
          2592651786,
          4334496018,
          2376552971,
          2670473667,
          3526599957,
          6593621634,
          4374008476,
          1672330718,
          2514596947,
          2147505352,
          1889199744,
          3283873970,
          2795305843,
          2233627821,
          2516352711,
          6608476174,
          4527850608,
          992361227,
          4302109080,
          1370529687,
          2645221536,
          2111580099,
          1686312058,
          1267465262,
          5652341273
         ],
         "yaxis": "y"
        },
        {
         "alignmentgroup": "True",
         "boxpoints": "all",
         "fillcolor": "rgba(255,255,255,0)",
         "hoveron": "points",
         "hovertemplate": "Category=Howto & Style<br>Video Views=%{y}<extra></extra>",
         "jitter": 0,
         "legendgroup": "Howto & Style",
         "line": {
          "color": "rgba(255,255,255,0)"
         },
         "marker": {
          "color": "#FF97FF",
          "symbol": "line-ew-open"
         },
         "name": "Howto & Style",
         "offsetgroup": "Howto & Style",
         "showlegend": false,
         "type": "box",
         "xaxis": "x2",
         "y": [
          24983430208,
          10430931571,
          6578128540,
          2586211373,
          2855477471,
          10001222206,
          5614408524,
          4997658141,
          5916449403,
          9709536467,
          5091483300,
          6536886700,
          5618139731,
          3695346065,
          2885085503,
          3617767355,
          3603087973,
          3846664788,
          2592651786,
          4334496018,
          2376552971,
          2670473667,
          3526599957,
          6593621634,
          4374008476,
          1672330718,
          2514596947,
          2147505352,
          1889199744,
          3283873970,
          2795305843,
          2233627821,
          2516352711,
          6608476174,
          4527850608,
          992361227,
          4302109080,
          1370529687,
          2645221536,
          2111580099,
          1686312058,
          1267465262,
          5652341273
         ],
         "yaxis": "y2"
        },
        {
         "hovertemplate": "Category=News & Politics<br>Subscribers=%{x}<br>Video Views=%{marker.size}<extra></extra>",
         "legendgroup": "News & Politics",
         "marker": {
          "color": "#FECB52",
          "size": [
           22725789132,
           2980922779,
           14728724777,
           14547067456,
           14090642521,
           9069403398,
           13931461109,
           2103047927,
           10663606796,
           9896953778,
           7205305527,
           6782488106,
           6342884945,
           5860579687,
           13366977081,
           6251404518,
           13163310550,
           9938076313,
           10910667115,
           12266150289,
           4248150214,
           2800240852,
           10958457763,
           4925451240,
           11220255933,
           5973835941,
           5765943823
          ],
          "sizemode": "area",
          "sizeref": 85160108.6212,
          "symbol": "circle"
         },
         "mode": "markers",
         "name": "News & Politics",
         "orientation": "v",
         "showlegend": true,
         "type": "scatter",
         "x": [
          55300000,
          35200000,
          33600000,
          28700000,
          25500000,
          23800000,
          20600000,
          19200000,
          18100000,
          17800000,
          16800000,
          15600000,
          15600000,
          15600000,
          15400000,
          15000000,
          14600000,
          14600000,
          14200000,
          14000000,
          13700000,
          13700000,
          13100000,
          12800000,
          12800000,
          12500000,
          11500000
         ],
         "xaxis": "x",
         "y": [
          22725789132,
          2980922779,
          14728724777,
          14547067456,
          14090642521,
          9069403398,
          13931461109,
          2103047927,
          10663606796,
          9896953778,
          7205305527,
          6782488106,
          6342884945,
          5860579687,
          13366977081,
          6251404518,
          13163310550,
          9938076313,
          10910667115,
          12266150289,
          4248150214,
          2800240852,
          10958457763,
          4925451240,
          11220255933,
          5973835941,
          5765943823
         ],
         "yaxis": "y"
        },
        {
         "alignmentgroup": "True",
         "boxpoints": "all",
         "fillcolor": "rgba(255,255,255,0)",
         "hoveron": "points",
         "hovertemplate": "Category=News & Politics<br>Video Views=%{y}<extra></extra>",
         "jitter": 0,
         "legendgroup": "News & Politics",
         "line": {
          "color": "rgba(255,255,255,0)"
         },
         "marker": {
          "color": "#FECB52",
          "symbol": "line-ew-open"
         },
         "name": "News & Politics",
         "offsetgroup": "News & Politics",
         "showlegend": false,
         "type": "box",
         "xaxis": "x2",
         "y": [
          22725789132,
          2980922779,
          14728724777,
          14547067456,
          14090642521,
          9069403398,
          13931461109,
          2103047927,
          10663606796,
          9896953778,
          7205305527,
          6782488106,
          6342884945,
          5860579687,
          13366977081,
          6251404518,
          13163310550,
          9938076313,
          10910667115,
          12266150289,
          4248150214,
          2800240852,
          10958457763,
          4925451240,
          11220255933,
          5973835941,
          5765943823
         ],
         "yaxis": "y2"
        },
        {
         "hovertemplate": "Category=Comedy<br>Subscribers=%{x}<br>Video Views=%{marker.size}<extra></extra>",
         "legendgroup": "Comedy",
         "marker": {
          "color": "#636efa",
          "size": [
           4179250874,
           8160328364,
           3110725449,
           15892449076,
           11114815843,
           16697658353,
           4021381165,
           14517628994,
           2955667345,
           4207027768,
           10223966037,
           9600028596,
           10274551358,
           5659381804,
           30317640439,
           1858850667,
           8466520358,
           2638222649,
           1784776380,
           10335248598,
           4323487943,
           12771152207,
           6977925438,
           6197013583,
           1045473522,
           5064880709,
           18751898909,
           2890143198,
           2607019595,
           4249047639,
           2103205523,
           958355786,
           9948034173,
           8503559876,
           2474948866,
           4356942977,
           2765806267,
           1720782483,
           16065818431,
           7417360246,
           3489663353,
           6531194335,
           3882397491,
           3055947897,
           4047724263,
           13757629009,
           5234144005,
           5504071291,
           1723601563,
           4577161512,
           1004312062,
           3008638341,
           5692761946,
           7886065029,
           6487369114,
           4313298357,
           8396773331,
           3792018934,
           11296940423,
           1975397586,
           4842572088,
           1962826145,
           2703042539,
           1188130067,
           3455406720,
           611866406,
           4775297096,
           2187032139
          ],
          "sizemode": "area",
          "sizeref": 85160108.6212,
          "symbol": "circle"
         },
         "mode": "markers",
         "name": "Comedy",
         "orientation": "v",
         "showlegend": true,
         "type": "scatter",
         "x": [
          44000000,
          39800000,
          37600000,
          36700000,
          33000000,
          30600000,
          29200000,
          29100000,
          29000000,
          29000000,
          26600000,
          25500000,
          25000000,
          24500000,
          22600000,
          20700000,
          20200000,
          19800000,
          19800000,
          19600000,
          18700000,
          18400000,
          18400000,
          18200000,
          17800000,
          17800000,
          17500000,
          17500000,
          17200000,
          16800000,
          16800000,
          16700000,
          16600000,
          16400000,
          16300000,
          16300000,
          15700000,
          15200000,
          15100000,
          14600000,
          14600000,
          14500000,
          14400000,
          14400000,
          14200000,
          13500000,
          13500000,
          13400000,
          13100000,
          13100000,
          13000000,
          12700000,
          12600000,
          12400000,
          12400000,
          12300000,
          12200000,
          12000000,
          11900000,
          11900000,
          11900000,
          11900000,
          11800000,
          11800000,
          11700000,
          11700000,
          11600000,
          11600000
         ],
         "xaxis": "x",
         "y": [
          4179250874,
          8160328364,
          3110725449,
          15892449076,
          11114815843,
          16697658353,
          4021381165,
          14517628994,
          2955667345,
          4207027768,
          10223966037,
          9600028596,
          10274551358,
          5659381804,
          30317640439,
          1858850667,
          8466520358,
          2638222649,
          1784776380,
          10335248598,
          4323487943,
          12771152207,
          6977925438,
          6197013583,
          1045473522,
          5064880709,
          18751898909,
          2890143198,
          2607019595,
          4249047639,
          2103205523,
          958355786,
          9948034173,
          8503559876,
          2474948866,
          4356942977,
          2765806267,
          1720782483,
          16065818431,
          7417360246,
          3489663353,
          6531194335,
          3882397491,
          3055947897,
          4047724263,
          13757629009,
          5234144005,
          5504071291,
          1723601563,
          4577161512,
          1004312062,
          3008638341,
          5692761946,
          7886065029,
          6487369114,
          4313298357,
          8396773331,
          3792018934,
          11296940423,
          1975397586,
          4842572088,
          1962826145,
          2703042539,
          1188130067,
          3455406720,
          611866406,
          4775297096,
          2187032139
         ],
         "yaxis": "y"
        },
        {
         "alignmentgroup": "True",
         "boxpoints": "all",
         "fillcolor": "rgba(255,255,255,0)",
         "hoveron": "points",
         "hovertemplate": "Category=Comedy<br>Video Views=%{y}<extra></extra>",
         "jitter": 0,
         "legendgroup": "Comedy",
         "line": {
          "color": "rgba(255,255,255,0)"
         },
         "marker": {
          "color": "#636efa",
          "symbol": "line-ew-open"
         },
         "name": "Comedy",
         "offsetgroup": "Comedy",
         "showlegend": false,
         "type": "box",
         "xaxis": "x2",
         "y": [
          4179250874,
          8160328364,
          3110725449,
          15892449076,
          11114815843,
          16697658353,
          4021381165,
          14517628994,
          2955667345,
          4207027768,
          10223966037,
          9600028596,
          10274551358,
          5659381804,
          30317640439,
          1858850667,
          8466520358,
          2638222649,
          1784776380,
          10335248598,
          4323487943,
          12771152207,
          6977925438,
          6197013583,
          1045473522,
          5064880709,
          18751898909,
          2890143198,
          2607019595,
          4249047639,
          2103205523,
          958355786,
          9948034173,
          8503559876,
          2474948866,
          4356942977,
          2765806267,
          1720782483,
          16065818431,
          7417360246,
          3489663353,
          6531194335,
          3882397491,
          3055947897,
          4047724263,
          13757629009,
          5234144005,
          5504071291,
          1723601563,
          4577161512,
          1004312062,
          3008638341,
          5692761946,
          7886065029,
          6487369114,
          4313298357,
          8396773331,
          3792018934,
          11296940423,
          1975397586,
          4842572088,
          1962826145,
          2703042539,
          1188130067,
          3455406720,
          611866406,
          4775297096,
          2187032139
         ],
         "yaxis": "y2"
        },
        {
         "hovertemplate": "Category=Trailers<br>Subscribers=%{x}<br>Video Views=%{marker.size}<extra></extra>",
         "legendgroup": "Trailers",
         "marker": {
          "color": "#EF553B",
          "size": [
           16198667693,
           16071519784
          ],
          "sizemode": "area",
          "sizeref": 85160108.6212,
          "symbol": "circle"
         },
         "mode": "markers",
         "name": "Trailers",
         "orientation": "v",
         "showlegend": true,
         "type": "scatter",
         "x": [
          39500000,
          35200000
         ],
         "xaxis": "x",
         "y": [
          16198667693,
          16071519784
         ],
         "yaxis": "y"
        },
        {
         "alignmentgroup": "True",
         "boxpoints": "all",
         "fillcolor": "rgba(255,255,255,0)",
         "hoveron": "points",
         "hovertemplate": "Category=Trailers<br>Video Views=%{y}<extra></extra>",
         "jitter": 0,
         "legendgroup": "Trailers",
         "line": {
          "color": "rgba(255,255,255,0)"
         },
         "marker": {
          "color": "#EF553B",
          "symbol": "line-ew-open"
         },
         "name": "Trailers",
         "offsetgroup": "Trailers",
         "showlegend": false,
         "type": "box",
         "xaxis": "x2",
         "y": [
          16198667693,
          16071519784
         ],
         "yaxis": "y2"
        },
        {
         "hovertemplate": "Category=Nonprofits & Activism<br>Subscribers=%{x}<br>Video Views=%{marker.size}<extra></extra>",
         "legendgroup": "Nonprofits & Activism",
         "marker": {
          "color": "#00cc96",
          "size": [
           7025367828,
           2668391636
          ],
          "sizemode": "area",
          "sizeref": 85160108.6212,
          "symbol": "circle"
         },
         "mode": "markers",
         "name": "Nonprofits & Activism",
         "orientation": "v",
         "showlegend": true,
         "type": "scatter",
         "x": [
          37300000,
          14400000
         ],
         "xaxis": "x",
         "y": [
          7025367828,
          2668391636
         ],
         "yaxis": "y"
        },
        {
         "alignmentgroup": "True",
         "boxpoints": "all",
         "fillcolor": "rgba(255,255,255,0)",
         "hoveron": "points",
         "hovertemplate": "Category=Nonprofits & Activism<br>Video Views=%{y}<extra></extra>",
         "jitter": 0,
         "legendgroup": "Nonprofits & Activism",
         "line": {
          "color": "rgba(255,255,255,0)"
         },
         "marker": {
          "color": "#00cc96",
          "symbol": "line-ew-open"
         },
         "name": "Nonprofits & Activism",
         "offsetgroup": "Nonprofits & Activism",
         "showlegend": false,
         "type": "box",
         "xaxis": "x2",
         "y": [
          7025367828,
          2668391636
         ],
         "yaxis": "y2"
        },
        {
         "hovertemplate": "Category=Science & Technology<br>Subscribers=%{x}<br>Video Views=%{marker.size}<extra></extra>",
         "legendgroup": "Science & Technology",
         "marker": {
          "color": "#ab63fa",
          "size": [
           5170819584,
           10103932216,
           3214411985,
           3240574005,
           5429440644,
           3184409704,
           2527403149,
           4413653121,
           942922750,
           3320565650,
           6566938287,
           1408649134,
           2522365187,
           2024906006,
           1031637100,
           4421255437,
           3263435380,
           3208363861
          ],
          "sizemode": "area",
          "sizeref": 85160108.6212,
          "symbol": "circle"
         },
         "mode": "markers",
         "name": "Science & Technology",
         "orientation": "v",
         "showlegend": true,
         "type": "scatter",
         "x": [
          29800000,
          23400000,
          23300000,
          22800000,
          21100000,
          19900000,
          18300000,
          18200000,
          16800000,
          16600000,
          15100000,
          13000000,
          12900000,
          12800000,
          12600000,
          12000000,
          11800000,
          11600000
         ],
         "xaxis": "x",
         "y": [
          5170819584,
          10103932216,
          3214411985,
          3240574005,
          5429440644,
          3184409704,
          2527403149,
          4413653121,
          942922750,
          3320565650,
          6566938287,
          1408649134,
          2522365187,
          2024906006,
          1031637100,
          4421255437,
          3263435380,
          3208363861
         ],
         "yaxis": "y"
        },
        {
         "alignmentgroup": "True",
         "boxpoints": "all",
         "fillcolor": "rgba(255,255,255,0)",
         "hoveron": "points",
         "hovertemplate": "Category=Science & Technology<br>Video Views=%{y}<extra></extra>",
         "jitter": 0,
         "legendgroup": "Science & Technology",
         "line": {
          "color": "rgba(255,255,255,0)"
         },
         "marker": {
          "color": "#ab63fa",
          "symbol": "line-ew-open"
         },
         "name": "Science & Technology",
         "offsetgroup": "Science & Technology",
         "showlegend": false,
         "type": "box",
         "xaxis": "x2",
         "y": [
          5170819584,
          10103932216,
          3214411985,
          3240574005,
          5429440644,
          3184409704,
          2527403149,
          4413653121,
          942922750,
          3320565650,
          6566938287,
          1408649134,
          2522365187,
          2024906006,
          1031637100,
          4421255437,
          3263435380,
          3208363861
         ],
         "yaxis": "y2"
        },
        {
         "hovertemplate": "Category=Movies<br>Subscribers=%{x}<br>Video Views=%{marker.size}<extra></extra>",
         "legendgroup": "Movies",
         "marker": {
          "color": "#FFA15A",
          "size": [
           8932231692,
           5274337335
          ],
          "sizemode": "area",
          "sizeref": 85160108.6212,
          "symbol": "circle"
         },
         "mode": "markers",
         "name": "Movies",
         "orientation": "v",
         "showlegend": true,
         "type": "scatter",
         "x": [
          26400000,
          21600000
         ],
         "xaxis": "x",
         "y": [
          8932231692,
          5274337335
         ],
         "yaxis": "y"
        },
        {
         "alignmentgroup": "True",
         "boxpoints": "all",
         "fillcolor": "rgba(255,255,255,0)",
         "hoveron": "points",
         "hovertemplate": "Category=Movies<br>Video Views=%{y}<extra></extra>",
         "jitter": 0,
         "legendgroup": "Movies",
         "line": {
          "color": "rgba(255,255,255,0)"
         },
         "marker": {
          "color": "#FFA15A",
          "symbol": "line-ew-open"
         },
         "name": "Movies",
         "offsetgroup": "Movies",
         "showlegend": false,
         "type": "box",
         "xaxis": "x2",
         "y": [
          8932231692,
          5274337335
         ],
         "yaxis": "y2"
        },
        {
         "hovertemplate": "Category=Pets & Animals<br>Subscribers=%{x}<br>Video Views=%{marker.size}<extra></extra>",
         "legendgroup": "Pets & Animals",
         "marker": {
          "color": "#19d3f3",
          "size": [
           4798091763,
           15908801249,
           9296738948,
           8683276984,
           4212409776,
           5050463518
          ],
          "sizemode": "area",
          "sizeref": 85160108.6212,
          "symbol": "circle"
         },
         "mode": "markers",
         "name": "Pets & Animals",
         "orientation": "v",
         "showlegend": true,
         "type": "scatter",
         "x": [
          20600000,
          18100000,
          13200000,
          12800000,
          11700000,
          11500000
         ],
         "xaxis": "x",
         "y": [
          4798091763,
          15908801249,
          9296738948,
          8683276984,
          4212409776,
          5050463518
         ],
         "yaxis": "y"
        },
        {
         "alignmentgroup": "True",
         "boxpoints": "all",
         "fillcolor": "rgba(255,255,255,0)",
         "hoveron": "points",
         "hovertemplate": "Category=Pets & Animals<br>Video Views=%{y}<extra></extra>",
         "jitter": 0,
         "legendgroup": "Pets & Animals",
         "line": {
          "color": "rgba(255,255,255,0)"
         },
         "marker": {
          "color": "#19d3f3",
          "symbol": "line-ew-open"
         },
         "name": "Pets & Animals",
         "offsetgroup": "Pets & Animals",
         "showlegend": false,
         "type": "box",
         "xaxis": "x2",
         "y": [
          4798091763,
          15908801249,
          9296738948,
          8683276984,
          4212409776,
          5050463518
         ],
         "yaxis": "y2"
        },
        {
         "hovertemplate": "Category=Autos & Vehicles<br>Subscribers=%{x}<br>Video Views=%{marker.size}<extra></extra>",
         "legendgroup": "Autos & Vehicles",
         "marker": {
          "color": "#FF6692",
          "size": [
           7666147546
          ],
          "sizemode": "area",
          "sizeref": 85160108.6212,
          "symbol": "circle"
         },
         "mode": "markers",
         "name": "Autos & Vehicles",
         "orientation": "v",
         "showlegend": true,
         "type": "scatter",
         "x": [
          18900000
         ],
         "xaxis": "x",
         "y": [
          7666147546
         ],
         "yaxis": "y"
        },
        {
         "alignmentgroup": "True",
         "boxpoints": "all",
         "fillcolor": "rgba(255,255,255,0)",
         "hoveron": "points",
         "hovertemplate": "Category=Autos & Vehicles<br>Video Views=%{y}<extra></extra>",
         "jitter": 0,
         "legendgroup": "Autos & Vehicles",
         "line": {
          "color": "rgba(255,255,255,0)"
         },
         "marker": {
          "color": "#FF6692",
          "symbol": "line-ew-open"
         },
         "name": "Autos & Vehicles",
         "offsetgroup": "Autos & Vehicles",
         "showlegend": false,
         "type": "box",
         "xaxis": "x2",
         "y": [
          7666147546
         ],
         "yaxis": "y2"
        },
        {
         "hovertemplate": "Category=Travel & Events<br>Subscribers=%{x}<br>Video Views=%{marker.size}<extra></extra>",
         "legendgroup": "Travel & Events",
         "marker": {
          "color": "#B6E880",
          "size": [
           2955450684
          ],
          "sizemode": "area",
          "sizeref": 85160108.6212,
          "symbol": "circle"
         },
         "mode": "markers",
         "name": "Travel & Events",
         "orientation": "v",
         "showlegend": true,
         "type": "scatter",
         "x": [
          12300000
         ],
         "xaxis": "x",
         "y": [
          2955450684
         ],
         "yaxis": "y"
        },
        {
         "alignmentgroup": "True",
         "boxpoints": "all",
         "fillcolor": "rgba(255,255,255,0)",
         "hoveron": "points",
         "hovertemplate": "Category=Travel & Events<br>Video Views=%{y}<extra></extra>",
         "jitter": 0,
         "legendgroup": "Travel & Events",
         "line": {
          "color": "rgba(255,255,255,0)"
         },
         "marker": {
          "color": "#B6E880",
          "symbol": "line-ew-open"
         },
         "name": "Travel & Events",
         "offsetgroup": "Travel & Events",
         "showlegend": false,
         "type": "box",
         "xaxis": "x2",
         "y": [
          2955450684
         ],
         "yaxis": "y2"
        }
       ],
       "layout": {
        "legend": {
         "itemsizing": "constant",
         "title": {
          "text": "Category"
         },
         "tracegroupgap": 0
        },
        "template": {
         "data": {
          "bar": [
           {
            "error_x": {
             "color": "#2a3f5f"
            },
            "error_y": {
             "color": "#2a3f5f"
            },
            "marker": {
             "line": {
              "color": "#E5ECF6",
              "width": 0.5
             },
             "pattern": {
              "fillmode": "overlay",
              "size": 10,
              "solidity": 0.2
             }
            },
            "type": "bar"
           }
          ],
          "barpolar": [
           {
            "marker": {
             "line": {
              "color": "#E5ECF6",
              "width": 0.5
             },
             "pattern": {
              "fillmode": "overlay",
              "size": 10,
              "solidity": 0.2
             }
            },
            "type": "barpolar"
           }
          ],
          "carpet": [
           {
            "aaxis": {
             "endlinecolor": "#2a3f5f",
             "gridcolor": "white",
             "linecolor": "white",
             "minorgridcolor": "white",
             "startlinecolor": "#2a3f5f"
            },
            "baxis": {
             "endlinecolor": "#2a3f5f",
             "gridcolor": "white",
             "linecolor": "white",
             "minorgridcolor": "white",
             "startlinecolor": "#2a3f5f"
            },
            "type": "carpet"
           }
          ],
          "choropleth": [
           {
            "colorbar": {
             "outlinewidth": 0,
             "ticks": ""
            },
            "type": "choropleth"
           }
          ],
          "contour": [
           {
            "colorbar": {
             "outlinewidth": 0,
             "ticks": ""
            },
            "colorscale": [
             [
              0,
              "#0d0887"
             ],
             [
              0.1111111111111111,
              "#46039f"
             ],
             [
              0.2222222222222222,
              "#7201a8"
             ],
             [
              0.3333333333333333,
              "#9c179e"
             ],
             [
              0.4444444444444444,
              "#bd3786"
             ],
             [
              0.5555555555555556,
              "#d8576b"
             ],
             [
              0.6666666666666666,
              "#ed7953"
             ],
             [
              0.7777777777777778,
              "#fb9f3a"
             ],
             [
              0.8888888888888888,
              "#fdca26"
             ],
             [
              1,
              "#f0f921"
             ]
            ],
            "type": "contour"
           }
          ],
          "contourcarpet": [
           {
            "colorbar": {
             "outlinewidth": 0,
             "ticks": ""
            },
            "type": "contourcarpet"
           }
          ],
          "heatmap": [
           {
            "colorbar": {
             "outlinewidth": 0,
             "ticks": ""
            },
            "colorscale": [
             [
              0,
              "#0d0887"
             ],
             [
              0.1111111111111111,
              "#46039f"
             ],
             [
              0.2222222222222222,
              "#7201a8"
             ],
             [
              0.3333333333333333,
              "#9c179e"
             ],
             [
              0.4444444444444444,
              "#bd3786"
             ],
             [
              0.5555555555555556,
              "#d8576b"
             ],
             [
              0.6666666666666666,
              "#ed7953"
             ],
             [
              0.7777777777777778,
              "#fb9f3a"
             ],
             [
              0.8888888888888888,
              "#fdca26"
             ],
             [
              1,
              "#f0f921"
             ]
            ],
            "type": "heatmap"
           }
          ],
          "heatmapgl": [
           {
            "colorbar": {
             "outlinewidth": 0,
             "ticks": ""
            },
            "colorscale": [
             [
              0,
              "#0d0887"
             ],
             [
              0.1111111111111111,
              "#46039f"
             ],
             [
              0.2222222222222222,
              "#7201a8"
             ],
             [
              0.3333333333333333,
              "#9c179e"
             ],
             [
              0.4444444444444444,
              "#bd3786"
             ],
             [
              0.5555555555555556,
              "#d8576b"
             ],
             [
              0.6666666666666666,
              "#ed7953"
             ],
             [
              0.7777777777777778,
              "#fb9f3a"
             ],
             [
              0.8888888888888888,
              "#fdca26"
             ],
             [
              1,
              "#f0f921"
             ]
            ],
            "type": "heatmapgl"
           }
          ],
          "histogram": [
           {
            "marker": {
             "pattern": {
              "fillmode": "overlay",
              "size": 10,
              "solidity": 0.2
             }
            },
            "type": "histogram"
           }
          ],
          "histogram2d": [
           {
            "colorbar": {
             "outlinewidth": 0,
             "ticks": ""
            },
            "colorscale": [
             [
              0,
              "#0d0887"
             ],
             [
              0.1111111111111111,
              "#46039f"
             ],
             [
              0.2222222222222222,
              "#7201a8"
             ],
             [
              0.3333333333333333,
              "#9c179e"
             ],
             [
              0.4444444444444444,
              "#bd3786"
             ],
             [
              0.5555555555555556,
              "#d8576b"
             ],
             [
              0.6666666666666666,
              "#ed7953"
             ],
             [
              0.7777777777777778,
              "#fb9f3a"
             ],
             [
              0.8888888888888888,
              "#fdca26"
             ],
             [
              1,
              "#f0f921"
             ]
            ],
            "type": "histogram2d"
           }
          ],
          "histogram2dcontour": [
           {
            "colorbar": {
             "outlinewidth": 0,
             "ticks": ""
            },
            "colorscale": [
             [
              0,
              "#0d0887"
             ],
             [
              0.1111111111111111,
              "#46039f"
             ],
             [
              0.2222222222222222,
              "#7201a8"
             ],
             [
              0.3333333333333333,
              "#9c179e"
             ],
             [
              0.4444444444444444,
              "#bd3786"
             ],
             [
              0.5555555555555556,
              "#d8576b"
             ],
             [
              0.6666666666666666,
              "#ed7953"
             ],
             [
              0.7777777777777778,
              "#fb9f3a"
             ],
             [
              0.8888888888888888,
              "#fdca26"
             ],
             [
              1,
              "#f0f921"
             ]
            ],
            "type": "histogram2dcontour"
           }
          ],
          "mesh3d": [
           {
            "colorbar": {
             "outlinewidth": 0,
             "ticks": ""
            },
            "type": "mesh3d"
           }
          ],
          "parcoords": [
           {
            "line": {
             "colorbar": {
              "outlinewidth": 0,
              "ticks": ""
             }
            },
            "type": "parcoords"
           }
          ],
          "pie": [
           {
            "automargin": true,
            "type": "pie"
           }
          ],
          "scatter": [
           {
            "fillpattern": {
             "fillmode": "overlay",
             "size": 10,
             "solidity": 0.2
            },
            "type": "scatter"
           }
          ],
          "scatter3d": [
           {
            "line": {
             "colorbar": {
              "outlinewidth": 0,
              "ticks": ""
             }
            },
            "marker": {
             "colorbar": {
              "outlinewidth": 0,
              "ticks": ""
             }
            },
            "type": "scatter3d"
           }
          ],
          "scattercarpet": [
           {
            "marker": {
             "colorbar": {
              "outlinewidth": 0,
              "ticks": ""
             }
            },
            "type": "scattercarpet"
           }
          ],
          "scattergeo": [
           {
            "marker": {
             "colorbar": {
              "outlinewidth": 0,
              "ticks": ""
             }
            },
            "type": "scattergeo"
           }
          ],
          "scattergl": [
           {
            "marker": {
             "colorbar": {
              "outlinewidth": 0,
              "ticks": ""
             }
            },
            "type": "scattergl"
           }
          ],
          "scattermapbox": [
           {
            "marker": {
             "colorbar": {
              "outlinewidth": 0,
              "ticks": ""
             }
            },
            "type": "scattermapbox"
           }
          ],
          "scatterpolar": [
           {
            "marker": {
             "colorbar": {
              "outlinewidth": 0,
              "ticks": ""
             }
            },
            "type": "scatterpolar"
           }
          ],
          "scatterpolargl": [
           {
            "marker": {
             "colorbar": {
              "outlinewidth": 0,
              "ticks": ""
             }
            },
            "type": "scatterpolargl"
           }
          ],
          "scatterternary": [
           {
            "marker": {
             "colorbar": {
              "outlinewidth": 0,
              "ticks": ""
             }
            },
            "type": "scatterternary"
           }
          ],
          "surface": [
           {
            "colorbar": {
             "outlinewidth": 0,
             "ticks": ""
            },
            "colorscale": [
             [
              0,
              "#0d0887"
             ],
             [
              0.1111111111111111,
              "#46039f"
             ],
             [
              0.2222222222222222,
              "#7201a8"
             ],
             [
              0.3333333333333333,
              "#9c179e"
             ],
             [
              0.4444444444444444,
              "#bd3786"
             ],
             [
              0.5555555555555556,
              "#d8576b"
             ],
             [
              0.6666666666666666,
              "#ed7953"
             ],
             [
              0.7777777777777778,
              "#fb9f3a"
             ],
             [
              0.8888888888888888,
              "#fdca26"
             ],
             [
              1,
              "#f0f921"
             ]
            ],
            "type": "surface"
           }
          ],
          "table": [
           {
            "cells": {
             "fill": {
              "color": "#EBF0F8"
             },
             "line": {
              "color": "white"
             }
            },
            "header": {
             "fill": {
              "color": "#C8D4E3"
             },
             "line": {
              "color": "white"
             }
            },
            "type": "table"
           }
          ]
         },
         "layout": {
          "annotationdefaults": {
           "arrowcolor": "#2a3f5f",
           "arrowhead": 0,
           "arrowwidth": 1
          },
          "autotypenumbers": "strict",
          "coloraxis": {
           "colorbar": {
            "outlinewidth": 0,
            "ticks": ""
           }
          },
          "colorscale": {
           "diverging": [
            [
             0,
             "#8e0152"
            ],
            [
             0.1,
             "#c51b7d"
            ],
            [
             0.2,
             "#de77ae"
            ],
            [
             0.3,
             "#f1b6da"
            ],
            [
             0.4,
             "#fde0ef"
            ],
            [
             0.5,
             "#f7f7f7"
            ],
            [
             0.6,
             "#e6f5d0"
            ],
            [
             0.7,
             "#b8e186"
            ],
            [
             0.8,
             "#7fbc41"
            ],
            [
             0.9,
             "#4d9221"
            ],
            [
             1,
             "#276419"
            ]
           ],
           "sequential": [
            [
             0,
             "#0d0887"
            ],
            [
             0.1111111111111111,
             "#46039f"
            ],
            [
             0.2222222222222222,
             "#7201a8"
            ],
            [
             0.3333333333333333,
             "#9c179e"
            ],
            [
             0.4444444444444444,
             "#bd3786"
            ],
            [
             0.5555555555555556,
             "#d8576b"
            ],
            [
             0.6666666666666666,
             "#ed7953"
            ],
            [
             0.7777777777777778,
             "#fb9f3a"
            ],
            [
             0.8888888888888888,
             "#fdca26"
            ],
            [
             1,
             "#f0f921"
            ]
           ],
           "sequentialminus": [
            [
             0,
             "#0d0887"
            ],
            [
             0.1111111111111111,
             "#46039f"
            ],
            [
             0.2222222222222222,
             "#7201a8"
            ],
            [
             0.3333333333333333,
             "#9c179e"
            ],
            [
             0.4444444444444444,
             "#bd3786"
            ],
            [
             0.5555555555555556,
             "#d8576b"
            ],
            [
             0.6666666666666666,
             "#ed7953"
            ],
            [
             0.7777777777777778,
             "#fb9f3a"
            ],
            [
             0.8888888888888888,
             "#fdca26"
            ],
            [
             1,
             "#f0f921"
            ]
           ]
          },
          "colorway": [
           "#636efa",
           "#EF553B",
           "#00cc96",
           "#ab63fa",
           "#FFA15A",
           "#19d3f3",
           "#FF6692",
           "#B6E880",
           "#FF97FF",
           "#FECB52"
          ],
          "font": {
           "color": "#2a3f5f"
          },
          "geo": {
           "bgcolor": "white",
           "lakecolor": "white",
           "landcolor": "#E5ECF6",
           "showlakes": true,
           "showland": true,
           "subunitcolor": "white"
          },
          "hoverlabel": {
           "align": "left"
          },
          "hovermode": "closest",
          "mapbox": {
           "style": "light"
          },
          "paper_bgcolor": "white",
          "plot_bgcolor": "#E5ECF6",
          "polar": {
           "angularaxis": {
            "gridcolor": "white",
            "linecolor": "white",
            "ticks": ""
           },
           "bgcolor": "#E5ECF6",
           "radialaxis": {
            "gridcolor": "white",
            "linecolor": "white",
            "ticks": ""
           }
          },
          "scene": {
           "xaxis": {
            "backgroundcolor": "#E5ECF6",
            "gridcolor": "white",
            "gridwidth": 2,
            "linecolor": "white",
            "showbackground": true,
            "ticks": "",
            "zerolinecolor": "white"
           },
           "yaxis": {
            "backgroundcolor": "#E5ECF6",
            "gridcolor": "white",
            "gridwidth": 2,
            "linecolor": "white",
            "showbackground": true,
            "ticks": "",
            "zerolinecolor": "white"
           },
           "zaxis": {
            "backgroundcolor": "#E5ECF6",
            "gridcolor": "white",
            "gridwidth": 2,
            "linecolor": "white",
            "showbackground": true,
            "ticks": "",
            "zerolinecolor": "white"
           }
          },
          "shapedefaults": {
           "line": {
            "color": "#2a3f5f"
           }
          },
          "ternary": {
           "aaxis": {
            "gridcolor": "white",
            "linecolor": "white",
            "ticks": ""
           },
           "baxis": {
            "gridcolor": "white",
            "linecolor": "white",
            "ticks": ""
           },
           "bgcolor": "#E5ECF6",
           "caxis": {
            "gridcolor": "white",
            "linecolor": "white",
            "ticks": ""
           }
          },
          "title": {
           "x": 0.05
          },
          "xaxis": {
           "automargin": true,
           "gridcolor": "white",
           "linecolor": "white",
           "ticks": "",
           "title": {
            "standoff": 15
           },
           "zerolinecolor": "white",
           "zerolinewidth": 2
          },
          "yaxis": {
           "automargin": true,
           "gridcolor": "white",
           "linecolor": "white",
           "ticks": "",
           "title": {
            "standoff": 15
           },
           "zerolinecolor": "white",
           "zerolinewidth": 2
          }
         }
        },
        "title": {
         "text": "Video views and Subscribers By Categories"
        },
        "xaxis": {
         "anchor": "y",
         "domain": [
          0,
          0.7363
         ],
         "title": {
          "text": "Subscribers"
         },
         "type": "log"
        },
        "xaxis2": {
         "anchor": "y2",
         "domain": [
          0.7413,
          1
         ],
         "matches": "x2",
         "showgrid": false,
         "showline": false,
         "showticklabels": false,
         "ticks": ""
        },
        "yaxis": {
         "anchor": "x",
         "domain": [
          0,
          1
         ],
         "title": {
          "text": "Video Views"
         }
        },
        "yaxis2": {
         "anchor": "x2",
         "domain": [
          0,
          1
         ],
         "matches": "y",
         "showgrid": true,
         "showticklabels": false
        }
       }
      }
     },
     "metadata": {},
     "output_type": "display_data"
    }
   ],
   "source": [
    "fig = px.scatter(df, x=\"Subscribers\", y=\"Video Views\",\n",
    "                 size=\"Video Views\", color=\"Category\",\n",
    "                 log_x=True, size_max=50,\n",
    "                 title=\"Video views and Subscribers By Categories\",\n",
    "                 marginal_y='rug')\n",
    "fig.show()"
   ]
  },
  {
   "cell_type": "markdown",
   "id": "ef67c4c7",
   "metadata": {
    "papermill": {
     "duration": 0.012385,
     "end_time": "2023-04-08T12:43:58.501591",
     "exception": false,
     "start_time": "2023-04-08T12:43:58.489206",
     "status": "completed"
    },
    "tags": []
   },
   "source": [
    "*Musics, Education and Shows ranked top 3 higest of Video Views and Subscribers.*"
   ]
  },
  {
   "cell_type": "markdown",
   "id": "ad3092de",
   "metadata": {
    "papermill": {
     "duration": 0.012254,
     "end_time": "2023-04-08T12:43:58.526454",
     "exception": false,
     "start_time": "2023-04-08T12:43:58.514200",
     "status": "completed"
    },
    "tags": []
   },
   "source": [
    "**Top 10 Music Youtube Channels with The Most Video Count**"
   ]
  },
  {
   "cell_type": "code",
   "execution_count": 93,
   "id": "7f81d52a",
   "metadata": {
    "execution": {
     "iopub.execute_input": "2023-04-08T12:43:58.553933Z",
     "iopub.status.busy": "2023-04-08T12:43:58.552880Z",
     "iopub.status.idle": "2023-04-08T12:43:58.567084Z",
     "shell.execute_reply": "2023-04-08T12:43:58.565808Z"
    },
    "papermill": {
     "duration": 0.030388,
     "end_time": "2023-04-08T12:43:58.569498",
     "exception": false,
     "start_time": "2023-04-08T12:43:58.539110",
     "status": "completed"
    },
    "tags": []
   },
   "outputs": [
    {
     "data": {
      "text/html": [
       "<div>\n",
       "<style scoped>\n",
       "    .dataframe tbody tr th:only-of-type {\n",
       "        vertical-align: middle;\n",
       "    }\n",
       "\n",
       "    .dataframe tbody tr th {\n",
       "        vertical-align: top;\n",
       "    }\n",
       "\n",
       "    .dataframe thead th {\n",
       "        text-align: right;\n",
       "    }\n",
       "</style>\n",
       "<table border=\"1\" class=\"dataframe\">\n",
       "  <thead>\n",
       "    <tr style=\"text-align: right;\">\n",
       "      <th></th>\n",
       "      <th>Youtube Channel</th>\n",
       "      <th>Subscribers</th>\n",
       "      <th>Video Views</th>\n",
       "      <th>Video Count</th>\n",
       "      <th>Category</th>\n",
       "      <th>Started</th>\n",
       "    </tr>\n",
       "  </thead>\n",
       "  <tbody>\n",
       "    <tr>\n",
       "      <th>0</th>\n",
       "      <td>T-Series</td>\n",
       "      <td>234000000</td>\n",
       "      <td>212900271553</td>\n",
       "      <td>18515</td>\n",
       "      <td>Music</td>\n",
       "      <td>2006</td>\n",
       "    </tr>\n",
       "    <tr>\n",
       "      <th>12</th>\n",
       "      <td>Zee Music Company</td>\n",
       "      <td>91600000</td>\n",
       "      <td>53352597784</td>\n",
       "      <td>7530</td>\n",
       "      <td>Music</td>\n",
       "      <td>2014</td>\n",
       "    </tr>\n",
       "    <tr>\n",
       "      <th>18</th>\n",
       "      <td>BANGTANTV</td>\n",
       "      <td>73100000</td>\n",
       "      <td>19240057894</td>\n",
       "      <td>2090</td>\n",
       "      <td>Music</td>\n",
       "      <td>2012</td>\n",
       "    </tr>\n",
       "    <tr>\n",
       "      <th>19</th>\n",
       "      <td>Justin Bieber</td>\n",
       "      <td>70800000</td>\n",
       "      <td>29598652357</td>\n",
       "      <td>249</td>\n",
       "      <td>Music</td>\n",
       "      <td>2007</td>\n",
       "    </tr>\n",
       "    <tr>\n",
       "      <th>20</th>\n",
       "      <td>HYBE LABELS</td>\n",
       "      <td>69600000</td>\n",
       "      <td>25947702825</td>\n",
       "      <td>1070</td>\n",
       "      <td>Music</td>\n",
       "      <td>2008</td>\n",
       "    </tr>\n",
       "  </tbody>\n",
       "</table>\n",
       "</div>"
      ],
      "text/plain": [
       "      Youtube Channel  Subscribers   Video Views  Video Count Category  \\\n",
       "0            T-Series    234000000  212900271553        18515    Music   \n",
       "12  Zee Music Company     91600000   53352597784         7530    Music   \n",
       "18          BANGTANTV     73100000   19240057894         2090    Music   \n",
       "19      Justin Bieber     70800000   29598652357          249    Music   \n",
       "20        HYBE LABELS     69600000   25947702825         1070    Music   \n",
       "\n",
       "    Started  \n",
       "0      2006  \n",
       "12     2014  \n",
       "18     2012  \n",
       "19     2007  \n",
       "20     2008  "
      ]
     },
     "execution_count": 93,
     "metadata": {},
     "output_type": "execute_result"
    }
   ],
   "source": [
    "df_music = df[df.Category == 'Music']\n",
    "df_music.head()"
   ]
  },
  {
   "cell_type": "code",
   "execution_count": 94,
   "id": "6e2be002",
   "metadata": {
    "execution": {
     "iopub.execute_input": "2023-04-08T12:43:58.597812Z",
     "iopub.status.busy": "2023-04-08T12:43:58.597033Z",
     "iopub.status.idle": "2023-04-08T12:43:59.017887Z",
     "shell.execute_reply": "2023-04-08T12:43:59.016603Z"
    },
    "papermill": {
     "duration": 0.438371,
     "end_time": "2023-04-08T12:43:59.020673",
     "exception": false,
     "start_time": "2023-04-08T12:43:58.582302",
     "status": "completed"
    },
    "tags": []
   },
   "outputs": [
    {
     "data": {
      "text/plain": [
       "Text(0.5, 1.0, 'Top 10 Music Youtube Channels with The Most Video Count')"
      ]
     },
     "execution_count": 94,
     "metadata": {},
     "output_type": "execute_result"
    },
    {
     "data": {
      "image/png": "[encoded data removed]",
      "text/plain": [
       "<Figure size 1500x1000 with 1 Axes>"
      ]
     },
     "metadata": {},
     "output_type": "display_data"
    }
   ],
   "source": [
    "new_index = df_music[\"Video Count\"].sort_values(ascending = False).index.values\n",
    "sorted_df_music = df_music.reindex(new_index)\n",
    "sorted_df_music_10 = sorted_df_music[:10]\n",
    "\n",
    "plt.figure(figsize=(15,10))\n",
    "\n",
    "sns.barplot(sorted_df_music_10, x=\"Video Count\", y=\"Youtube Channel\", palette = \"pastel\")\n",
    "\n",
    "plt.xticks(rotation = 90)\n",
    "plt.xlabel(\"Video Count\", fontsize = 15)\n",
    "plt.ylabel(\"Youtube Channel\", fontsize = 15)\n",
    "plt.title(\"Top 10 Music Youtube Channels with The Most Video Count\", fontsize =20)"
   ]
  },
  {
   "cell_type": "markdown",
   "id": "5fe63163",
   "metadata": {
    "papermill": {
     "duration": 0.013399,
     "end_time": "2023-04-08T12:43:59.048057",
     "exception": false,
     "start_time": "2023-04-08T12:43:59.034658",
     "status": "completed"
    },
    "tags": []
   },
   "source": [
    "*Indosiar has the most video count of Music category*"
   ]
  },
  {
   "cell_type": "markdown",
   "id": "f5feb626",
   "metadata": {
    "papermill": {
     "duration": 0.013367,
     "end_time": "2023-04-08T12:43:59.075248",
     "exception": false,
     "start_time": "2023-04-08T12:43:59.061881",
     "status": "completed"
    },
    "tags": []
   },
   "source": [
    "**Top 10 Education Youtube Channels with The Most Video Views**"
   ]
  },
  {
   "cell_type": "code",
   "execution_count": 95,
   "id": "4d2e0dea",
   "metadata": {
    "execution": {
     "iopub.execute_input": "2023-04-08T12:43:59.104729Z",
     "iopub.status.busy": "2023-04-08T12:43:59.104322Z",
     "iopub.status.idle": "2023-04-08T12:43:59.118299Z",
     "shell.execute_reply": "2023-04-08T12:43:59.117010Z"
    },
    "papermill": {
     "duration": 0.031774,
     "end_time": "2023-04-08T12:43:59.120705",
     "exception": false,
     "start_time": "2023-04-08T12:43:59.088931",
     "status": "completed"
    },
    "tags": []
   },
   "outputs": [
    {
     "data": {
      "text/html": [
       "<div>\n",
       "<style scoped>\n",
       "    .dataframe tbody tr th:only-of-type {\n",
       "        vertical-align: middle;\n",
       "    }\n",
       "\n",
       "    .dataframe tbody tr th {\n",
       "        vertical-align: top;\n",
       "    }\n",
       "\n",
       "    .dataframe thead th {\n",
       "        text-align: right;\n",
       "    }\n",
       "</style>\n",
       "<table border=\"1\" class=\"dataframe\">\n",
       "  <thead>\n",
       "    <tr style=\"text-align: right;\">\n",
       "      <th></th>\n",
       "      <th>Youtube Channel</th>\n",
       "      <th>Subscribers</th>\n",
       "      <th>Video Views</th>\n",
       "      <th>Video Count</th>\n",
       "      <th>Category</th>\n",
       "      <th>Started</th>\n",
       "    </tr>\n",
       "  </thead>\n",
       "  <tbody>\n",
       "    <tr>\n",
       "      <th>2</th>\n",
       "      <td>Cocomelon - Nursery Rhymes</td>\n",
       "      <td>152000000</td>\n",
       "      <td>149084178448</td>\n",
       "      <td>846</td>\n",
       "      <td>Education</td>\n",
       "      <td>2006</td>\n",
       "    </tr>\n",
       "    <tr>\n",
       "      <th>23</th>\n",
       "      <td>Pinkfong Baby Shark - Kids' Songs &amp; Stories</td>\n",
       "      <td>64600000</td>\n",
       "      <td>35934421688</td>\n",
       "      <td>2599</td>\n",
       "      <td>Education</td>\n",
       "      <td>2011</td>\n",
       "    </tr>\n",
       "    <tr>\n",
       "      <th>25</th>\n",
       "      <td>ChuChu TV Nursery Rhymes &amp; Kids Songs</td>\n",
       "      <td>61100000</td>\n",
       "      <td>41904239949</td>\n",
       "      <td>531</td>\n",
       "      <td>Education</td>\n",
       "      <td>2013</td>\n",
       "    </tr>\n",
       "    <tr>\n",
       "      <th>42</th>\n",
       "      <td>BillionSurpriseToys - English Kids Songs &amp; Car...</td>\n",
       "      <td>49700000</td>\n",
       "      <td>8662901485</td>\n",
       "      <td>637</td>\n",
       "      <td>Education</td>\n",
       "      <td>2013</td>\n",
       "    </tr>\n",
       "    <tr>\n",
       "      <th>43</th>\n",
       "      <td>Infobells - Hindi</td>\n",
       "      <td>48400000</td>\n",
       "      <td>27621598218</td>\n",
       "      <td>514</td>\n",
       "      <td>Education</td>\n",
       "      <td>2014</td>\n",
       "    </tr>\n",
       "  </tbody>\n",
       "</table>\n",
       "</div>"
      ],
      "text/plain": [
       "                                      Youtube Channel  Subscribers  \\\n",
       "2                          Cocomelon - Nursery Rhymes    152000000   \n",
       "23        Pinkfong Baby Shark - Kids' Songs & Stories     64600000   \n",
       "25              ChuChu TV Nursery Rhymes & Kids Songs     61100000   \n",
       "42  BillionSurpriseToys - English Kids Songs & Car...     49700000   \n",
       "43                                  Infobells - Hindi     48400000   \n",
       "\n",
       "     Video Views  Video Count   Category  Started  \n",
       "2   149084178448          846  Education     2006  \n",
       "23   35934421688         2599  Education     2011  \n",
       "25   41904239949          531  Education     2013  \n",
       "42    8662901485          637  Education     2013  \n",
       "43   27621598218          514  Education     2014  "
      ]
     },
     "execution_count": 95,
     "metadata": {},
     "output_type": "execute_result"
    }
   ],
   "source": [
    "df_edu = df[df.Category == \"Education\"]\n",
    "df_edu.head()"
   ]
  },
  {
   "cell_type": "code",
   "execution_count": 96,
   "id": "6afd0e19",
   "metadata": {
    "execution": {
     "iopub.execute_input": "2023-04-08T12:43:59.151419Z",
     "iopub.status.busy": "2023-04-08T12:43:59.150368Z",
     "iopub.status.idle": "2023-04-08T12:43:59.590119Z",
     "shell.execute_reply": "2023-04-08T12:43:59.588853Z"
    },
    "papermill": {
     "duration": 0.457855,
     "end_time": "2023-04-08T12:43:59.592776",
     "exception": false,
     "start_time": "2023-04-08T12:43:59.134921",
     "status": "completed"
    },
    "tags": []
   },
   "outputs": [
    {
     "data": {
      "text/plain": [
       "Text(0.5, 1.0, 'Top 10 Education Youtube Channels with The Most Video Views')"
      ]
     },
     "execution_count": 96,
     "metadata": {},
     "output_type": "execute_result"
    },
    {
     "data": {
      "image/png": "[encoded data removed]",
      "text/plain": [
       "<Figure size 1500x1000 with 1 Axes>"
      ]
     },
     "metadata": {},
     "output_type": "display_data"
    }
   ],
   "source": [
    "new_index2 = df_edu[\"Video Views\"].sort_values(ascending = False).index.values\n",
    "sorted_df_edu = df_edu.reindex(new_index2)\n",
    "sorted_df_edu_10 = sorted_df_edu[:10]\n",
    "\n",
    "plt.figure(figsize=(15,10))\n",
    "\n",
    "sns.barplot(sorted_df_edu_10, x=\"Video Views\", y=\"Youtube Channel\", palette = \"pastel\")\n",
    "\n",
    "plt.xticks(rotation = 90)\n",
    "plt.xlabel(\"Video Views\", fontsize = 15)\n",
    "plt.ylabel(\"Youtube Channel\", fontsize = 15)\n",
    "plt.title(\"Top 10 Education Youtube Channels with The Most Video Views\", fontsize =20)"
   ]
  },
  {
   "cell_type": "markdown",
   "id": "a5f7af1e",
   "metadata": {
    "papermill": {
     "duration": 0.015003,
     "end_time": "2023-04-08T12:43:59.623465",
     "exception": false,
     "start_time": "2023-04-08T12:43:59.608462",
     "status": "completed"
    },
    "tags": []
   },
   "source": [
    "*Cocomelon has the most video view of Education category*"
   ]
  },
  {
   "cell_type": "markdown",
   "id": "0a768d35",
   "metadata": {
    "papermill": {
     "duration": 0.014941,
     "end_time": "2023-04-08T12:43:59.653748",
     "exception": false,
     "start_time": "2023-04-08T12:43:59.638807",
     "status": "completed"
    },
    "tags": []
   },
   "source": [
    "**Trend in the YouTube Channels Created Each Year**"
   ]
  },
  {
   "cell_type": "code",
   "execution_count": 97,
   "id": "2a219242",
   "metadata": {
    "execution": {
     "iopub.execute_input": "2023-04-08T12:43:59.686428Z",
     "iopub.status.busy": "2023-04-08T12:43:59.685633Z",
     "iopub.status.idle": "2023-04-08T12:44:00.214726Z",
     "shell.execute_reply": "2023-04-08T12:44:00.213433Z"
    },
    "papermill": {
     "duration": 0.548541,
     "end_time": "2023-04-08T12:44:00.217583",
     "exception": false,
     "start_time": "2023-04-08T12:43:59.669042",
     "status": "completed"
    },
    "tags": []
   },
   "outputs": [
    {
     "data": {
      "image/png": "[encoded data removed]",
      "text/plain": [
       "<Figure size 2000x800 with 1 Axes>"
      ]
     },
     "metadata": {},
     "output_type": "display_data"
    }
   ],
   "source": [
    "year=df['Started'].value_counts()\n",
    "plt.figure(figsize=(20,8))\n",
    "sns.pointplot(x=year.index,y=year.values, color='violet')\n",
    "plt.xlabel('Year')\n",
    "plt.ylabel('Count')\n",
    "plt.title('Trend in the YouTube Channels Created Each Year',size=30, color='maroon');\n"
   ]
  },
  {
   "cell_type": "markdown",
   "id": "d1806bc8",
   "metadata": {
    "papermill": {
     "duration": 0.016661,
     "end_time": "2023-04-08T12:44:00.251205",
     "exception": false,
     "start_time": "2023-04-08T12:44:00.234544",
     "status": "completed"
    },
    "tags": []
   },
   "source": [
    "*The maximum number of the Youtube Channels was in 2014 and then kept decreasing since then*"
   ]
  },
  {
   "cell_type": "markdown",
   "id": "7e8a822b",
   "metadata": {
    "papermill": {
     "duration": 0.016581,
     "end_time": "2023-04-08T12:44:00.284933",
     "exception": false,
     "start_time": "2023-04-08T12:44:00.268352",
     "status": "completed"
    },
    "tags": []
   },
   "source": [
    "**Correlation between variables**"
   ]
  },
  {
   "cell_type": "code",
   "execution_count": 98,
   "id": "0d8b84fa",
   "metadata": {
    "execution": {
     "iopub.execute_input": "2023-04-08T12:44:00.320514Z",
     "iopub.status.busy": "2023-04-08T12:44:00.320099Z",
     "iopub.status.idle": "2023-04-08T12:44:00.571427Z",
     "shell.execute_reply": "2023-04-08T12:44:00.570234Z"
    },
    "papermill": {
     "duration": 0.272268,
     "end_time": "2023-04-08T12:44:00.573877",
     "exception": false,
     "start_time": "2023-04-08T12:44:00.301609",
     "status": "completed"
    },
    "tags": []
   },
   "outputs": [
    {
     "data": {
      "text/plain": [
       "<Axes: xlabel='Subscribers', ylabel='Video Views'>"
      ]
     },
     "execution_count": 98,
     "metadata": {},
     "output_type": "execute_result"
    },
    {
     "data": {
      "image/png": "[encoded data removed]",
      "text/plain": [
       "<Figure size 640x480 with 1 Axes>"
      ]
     },
     "metadata": {},
     "output_type": "display_data"
    }
   ],
   "source": [
    "sns.scatterplot(data=df, x='Subscribers', y='Video Views')"
   ]
  },
  {
   "cell_type": "code",
   "execution_count": 99,
   "id": "95628bcf",
   "metadata": {
    "execution": {
     "iopub.execute_input": "2023-04-08T12:44:00.610382Z",
     "iopub.status.busy": "2023-04-08T12:44:00.609941Z",
     "iopub.status.idle": "2023-04-08T12:44:00.860742Z",
     "shell.execute_reply": "2023-04-08T12:44:00.859560Z"
    },
    "papermill": {
     "duration": 0.2731,
     "end_time": "2023-04-08T12:44:00.864335",
     "exception": false,
     "start_time": "2023-04-08T12:44:00.591235",
     "status": "completed"
    },
    "tags": []
   },
   "outputs": [
    {
     "data": {
      "text/plain": [
       "<Axes: xlabel='Subscribers', ylabel='Video Count'>"
      ]
     },
     "execution_count": 99,
     "metadata": {},
     "output_type": "execute_result"
    },
    {
     "data": {
      "image/png": "[encoded data removed]",
      "text/plain": [
       "<Figure size 640x480 with 1 Axes>"
      ]
     },
     "metadata": {},
     "output_type": "display_data"
    }
   ],
   "source": [
    "sns.scatterplot(data=df, x='Subscribers', y='Video Count')"
   ]
  },
  {
   "cell_type": "code",
   "execution_count": 100,
   "id": "d402b1cf",
   "metadata": {
    "execution": {
     "iopub.execute_input": "2023-04-08T12:44:00.907992Z",
     "iopub.status.busy": "2023-04-08T12:44:00.907537Z",
     "iopub.status.idle": "2023-04-08T12:44:01.171235Z",
     "shell.execute_reply": "2023-04-08T12:44:01.169980Z"
    },
    "papermill": {
     "duration": 0.286176,
     "end_time": "2023-04-08T12:44:01.173980",
     "exception": false,
     "start_time": "2023-04-08T12:44:00.887804",
     "status": "completed"
    },
    "tags": []
   },
   "outputs": [
    {
     "data": {
      "text/plain": [
       "<Axes: xlabel='Video Views', ylabel='Video Count'>"
      ]
     },
     "execution_count": 100,
     "metadata": {},
     "output_type": "execute_result"
    },
    {
     "data": {
      "image/png": "[encoded data removed]",
      "text/plain": [
       "<Figure size 640x480 with 1 Axes>"
      ]
     },
     "metadata": {},
     "output_type": "display_data"
    }
   ],
   "source": [
    "sns.scatterplot(data=df, x='Video Views', y='Video Count')"
   ]
  },
  {
   "cell_type": "markdown",
   "id": "b696bc56",
   "metadata": {
    "papermill": {
     "duration": 0.018358,
     "end_time": "2023-04-08T12:44:01.211073",
     "exception": false,
     "start_time": "2023-04-08T12:44:01.192715",
     "status": "completed"
    },
    "tags": []
   },
   "source": [
    "**The heat map explains the correlation**"
   ]
  },
  {
   "cell_type": "code",
   "execution_count": 101,
   "id": "f526d34e",
   "metadata": {
    "execution": {
     "iopub.execute_input": "2023-04-08T12:44:01.251021Z",
     "iopub.status.busy": "2023-04-08T12:44:01.250563Z",
     "iopub.status.idle": "2023-04-08T12:44:01.672768Z",
     "shell.execute_reply": "2023-04-08T12:44:01.671441Z"
    },
    "papermill": {
     "duration": 0.445973,
     "end_time": "2023-04-08T12:44:01.675686",
     "exception": false,
     "start_time": "2023-04-08T12:44:01.229713",
     "status": "completed"
    },
    "tags": []
   },
   "outputs": [
    {
     "data": {
      "image/png": "[encoded data removed]",
      "text/plain": [
       "<Figure size 2000x800 with 2 Axes>"
      ]
     },
     "metadata": {},
     "output_type": "display_data"
    }
   ],
   "source": [
    "plt.figure(figsize=(20,8))\n",
    "sns.set_theme('notebook')\n",
    "sns.heatmap(df.corr(numeric_only=True), annot=True, center=True);"
   ]
  }
 ],
 "metadata": {
  "kernelspec": {
   "display_name": "Python 3",
   "language": "python",
   "name": "python3"
  },
  "language_info": {
   "codemirror_mode": {
    "name": "ipython",
    "version": 3
   },
   "file_extension": ".py",
   "mimetype": "text/x-python",
   "name": "python",
   "nbconvert_exporter": "python",
   "pygments_lexer": "ipython3",
   "version": "3.11.1"
  },
  "papermill": {
   "default_parameters": {},
   "duration": 20.017027,
   "end_time": "2023-04-08T12:44:02.656643",
   "environment_variables": {},
   "exception": null,
   "input_path": "__notebook__.ipynb",
   "output_path": "__notebook__.ipynb",
   "parameters": {},
   "start_time": "2023-04-08T12:43:42.639616",
   "version": "2.4.0"
  }
 },
 "nbformat": 4,
 "nbformat_minor": 5
}
